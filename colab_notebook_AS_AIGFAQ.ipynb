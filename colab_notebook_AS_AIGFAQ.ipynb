{
  "nbformat": 4,
  "nbformat_minor": 0,
  "metadata": {
    "colab": {
      "provenance": [],
      "toc_visible": true,
      "authorship_tag": "ABX9TyNxESCfLQvWddvglFGW5UuB",
      "include_colab_link": true
    },
    "kernelspec": {
      "name": "python3",
      "display_name": "Python 3"
    },
    "language_info": {
      "name": "python"
    }
  },
  "cells": [
    {
      "cell_type": "markdown",
      "metadata": {
        "id": "view-in-github",
        "colab_type": "text"
      },
      "source": [
        "<a href=\"https://colab.research.google.com/github/AS-AIGFAQ/AS-AIGFAQ/blob/main/colab_notebook_AS_AIGFAQ.ipynb\" target=\"_parent\"><img src=\"https://colab.research.google.com/assets/colab-badge.svg\" alt=\"Open In Colab\"/></a>"
      ]
    },
    {
      "cell_type": "markdown",
      "source": [
        "# AI Generated FAQ by Academia Sinica (AS-AIGFAQ)\n",
        "\n",
        "## 現有行政服務的常態與問題\n",
        "\n",
        "- 所有的法條、服務說明、公告事項都會放置在網站上\n",
        "- 網頁就像一個大迷宮，什麼都有，但是想找的往往都找不到\n",
        "- 最快的方法就是打電話問承辦人，導致承辦人花費大量的時間在回答類似的問題，反而減少可以處理日常公務的時間\n",
        "\n",
        "## 現有行政服務的解方\n",
        "\n",
        "- 單一服務窗口：由專業客服代為回答簡易問題。但是，複雜問題仍須轉介承辦人、轉介案的回應所需時間拉長、客服可能判斷錯誤\n",
        "- 整理 FAQ 讓使用者自行查詢：由專人撰寫且隨時更新 FAQ。但是，FAQ 的文句、口氣、題目類型難以標準化；更新時容易掛一漏萬\n",
        "- 導入 chatbot ：根據資料庫設計交談式機器人回答問題。但是，往往只能回答制式問題、需花費大量成本進行調校\n",
        "\n",
        "## 我們的解法\n",
        "\n",
        "- 讓 chatGPT 提供對使用者感興趣的問題建議，進而達到自動生成 FAQ 的目標\n",
        "- 透過 OpenAI API，施展咒語 (prompt) 讓 chatGPT  依據輸入的內容 (context，即相關規定) 提出問題；接著再請 chatGPT  依據輸入的內容，回答所收集到的問題\n",
        "\n",
        "\n",
        "## 註記\n",
        "\n",
        "以下程式內容說明與註解，皆由 ChatGPT 產生，並經人工簡略編輯而成。"
      ],
      "metadata": {
        "id": "Ehra3hi0FnWx"
      }
    },
    {
      "cell_type": "markdown",
      "source": [
        "## Initialization"
      ],
      "metadata": {
        "id": "wWIOAMc_e9so"
      }
    },
    {
      "cell_type": "markdown",
      "source": [
        "首先我們升級 pip 和 openai 套件的版本，並且設定為在靜默模式下執行，以避免顯示太多的輸出。\n",
        "\n",
        "First, we upgrade the versions of the pip and openai packages in quiet mode to avoid displaying too much output."
      ],
      "metadata": {
        "id": "k_m9i4DNH_5u"
      }
    },
    {
      "cell_type": "code",
      "source": [
        "# Upgrade pip (Python package installer) to the latest version in quiet mode\n",
        "!pip install -q --upgrade pip\n",
        "\n",
        "# Install or upgrade the 'openai' package in quiet mode\n",
        "!pip install -q --upgrade openai"
      ],
      "metadata": {
        "id": "yjPUqdjJfB_l"
      },
      "execution_count": null,
      "outputs": []
    },
    {
      "cell_type": "markdown",
      "source": [
        "接著導入 openai 和 pandas 庫，然後設置了環境變量 OPENAI_API_KEY 的值。接著並將 openai.api_key 設為 API 密鑰。最後，設置了文件名和 HTML 標題。\n",
        "\n",
        "We import the openai and pandas libraries, then sets the value of the environment variable OPENAI_API_KEY. After that, it sets openai.api_key to the API key. Finally, it sets the file name and HTML title."
      ],
      "metadata": {
        "id": "E7mYhtyfILJp"
      }
    },
    {
      "cell_type": "code",
      "source": [
        "import openai\n",
        "import pandas as pd\n",
        "\n",
        "# Set the environment variable for OpenAI API key\n",
        "%env OPENAI_API_KEY=YOUR_OPENAI_API_KEY\n",
        "\n",
        "# Set organization and API key for OpenAI\n",
        "openai.organization = \"\"\n",
        "openai.api_key = \"YOUR_OPENAI_API_KEY\"\n",
        "\n",
        "# Set the file name and HTML title\n",
        "fname = 'AS-ITS'\n",
        "HTML_title = '中央研究院 資訊服務 FAQ'\n",
        "\n",
        "faq_name = fname + '-QA.csv'"
      ],
      "metadata": {
        "id": "PIkdS_OMfOpi"
      },
      "execution_count": null,
      "outputs": []
    },
    {
      "cell_type": "markdown",
      "source": [
        "# Read in the data"
      ],
      "metadata": {
        "id": "qTcUJ0jxfg7G"
      }
    },
    {
      "cell_type": "markdown",
      "source": [
        "我們首先從 csv 檔案中讀取資料並將其存入名為 df 的變數。然後，我們印出原始資料的行數。接著，我們使用 dropna 函數移除 df 中所有空行，並用 inplace 參數直接替換原資料。最後，我們印出移除空行後的行數，並顯示前五行資料。\n",
        "\n",
        "We first read data from a csv file and store it in a variable called df. Then, we print the number of rows in the original data. After that, we use the dropna function to remove all empty rows in df, and replace the original data directly with the inplace parameter. Finally, we print the number of rows after removing empty rows and display the first five rows of data."
      ],
      "metadata": {
        "id": "j7vcO8oOIRuj"
      }
    },
    {
      "cell_type": "code",
      "source": [
        "# Read data from a csv file and store it in the 'df' variable\n",
        "df = pd.read_csv(fname + \".csv\")\n",
        "\n",
        "# Print the number of rows in the original data\n",
        "print(\"Before removing empty rows: \" + str(len(df.index)))\n",
        "\n",
        "# Remove all empty rows in 'df' and replace the original data directly with the inplace parameter\n",
        "df.dropna(inplace = True)   \n",
        "\n",
        "# Print the number of rows after removing empty rows\n",
        "print(\"After removing empty rows: \" + str(len(df.index)))\n",
        "\n",
        "# Display the first five rows of data\n",
        "df.head()"
      ],
      "metadata": {
        "id": "BmuPHAJ4fkaZ"
      },
      "execution_count": null,
      "outputs": []
    },
    {
      "cell_type": "markdown",
      "source": [
        "# Use OpenAI API (gpt-3.5-turbo) to generate Q&A"
      ],
      "metadata": {
        "id": "hOjiKDkcw9rW"
      }
    },
    {
      "cell_type": "markdown",
      "source": [
        "## Create questions based on the data"
      ],
      "metadata": {
        "id": "QMr4kljMxGo1"
      }
    },
    {
      "cell_type": "markdown",
      "source": [
        "我們定義了一個名為 chatGPT_get_questions 的函數，它接收一個名為 row 的參數。函數中，我們嘗試建立一個問題 q，根據服務項目和服務說明來提出問題。然後，我們使用 GPT-3.5 Turbo 模型向 OpenAI 請求回答。如果一切正常，我們將返回回答內容。如果遇到錯誤，則返回空字符串。\n",
        "\n",
        "We define a function called chatGPT_get_questions, which takes a parameter called row. In the function, we try to create a question q based on the service item and service description. Then, we request an answer from OpenAI using the GPT-3.5 Turbo model. If everything goes well, we return the answer content. If there is an error, we return an empty string."
      ],
      "metadata": {
        "id": "XXjaUP3EIZoz"
      }
    },
    {
      "cell_type": "code",
      "source": [
        "def chatGPT_get_questions(row):\n",
        "    try:\n",
        "        # Create a question based on the service item and service description\n",
        "        q = \"請根據以下的服務項目與服務說明，提出以問號為結尾，並且清楚說明服務項目的問題\\n\\n服務項目：{\"+row.title+\"}\\n\\n服務說明：{\"+row.context+\"}\\n\\n問題：\\n1.\"\n",
        "        \n",
        "        # Request an answer from OpenAI using the GPT-3.5 Turbo model\n",
        "        rsp = openai.ChatCompletion.create(\n",
        "            model=\"gpt-3.5-turbo\",\n",
        "            messages=[\n",
        "                {\"role\": \"system\", \"content\": \"使用者\"},\n",
        "                {\"role\": \"user\", \"content\": q}\n",
        "            ]\n",
        "        )\n",
        "        \n",
        "        # Return the answer content\n",
        "        return rsp.get(\"choices\")[0][\"message\"][\"content\"]\n",
        "    except:\n",
        "        # Return an empty string if there is an error\n",
        "        return \"\""
      ],
      "metadata": {
        "id": "26EsRwgczXLz"
      },
      "execution_count": null,
      "outputs": []
    },
    {
      "cell_type": "markdown",
      "source": [
        "我們首先使用 apply 函數將 chatGPT_get_questions 函數應用到 df 的每一行，並將結果存儲在名為 questions 的新列中。接著，我們在每個 questions 列的開頭加上 \"1.\"。最後，我們印出 df 中第一行的 questions 列的值。\n",
        "\n",
        "We first use the apply function to apply the chatGPT_get_questions function to each row of df and store the result in a new column called questions. Then, we add \"1.\" to the beginning of each questions column. Finally, we print the value of the questions column in the first row of df."
      ],
      "metadata": {
        "id": "nUkGA2iYIbRY"
      }
    },
    {
      "cell_type": "code",
      "source": [
        "# Apply the 'chatGPT_get_questions' function to each row of 'df' and store the result in a new column called 'questions'\n",
        "df['questions'] = df.apply(chatGPT_get_questions, axis=1)\n",
        "\n",
        "# Add \"1.\" to the beginning of each 'questions' column\n",
        "df['questions'] = \"1.\" + df.questions\n",
        "\n",
        "# Print the value of the 'questions' column in the first row of 'df'\n",
        "print(df[['questions']].values[0][0])"
      ],
      "metadata": {
        "id": "k38Aiz2JzVSy"
      },
      "execution_count": null,
      "outputs": []
    },
    {
      "cell_type": "markdown",
      "source": [
        "我們在這裡分別使用 head () 和 tail () 函數來查看 df 的前五行和後五行資料。\n",
        "\n",
        "Here, we use the head() and tail() functions to view the first five rows and last five rows of df, respectively."
      ],
      "metadata": {
        "id": "oV8Rxxe4IruA"
      }
    },
    {
      "cell_type": "code",
      "source": [
        "# Display the first five rows of 'df'\n",
        "df.head()\n",
        "\n",
        "# Display the last five rows of 'df'\n",
        "df.tail()"
      ],
      "metadata": {
        "id": "_ww_p2PT0npG"
      },
      "execution_count": null,
      "outputs": []
    },
    {
      "cell_type": "markdown",
      "source": [
        "我們導入 re（正則表達式）模組。然後，創建一個新的空 DataFrame，命名為 df2，包含四個列：'category'、'title'、'context' 和 'question'。接著，我們遍歷 df 中的每一行，將每一行的 'questions' 列拆分成多個問題。對於每個問題，我們移除問題序號（例如 \"1.\"），並創建一個新的 DataFrame（new_df）包含當前問題及其相應的 'category'、'title' 和 'context'。最後，我們將 new_df 添加到 df2 中，並更新問題序號 i。\n",
        "\n",
        "We import the re (regular expression) module. Then, we create a new empty DataFrame called df2, containing four columns: 'category', 'title', 'context', and 'question'. Next, we iterate through each row in df, splitting the 'questions' column in each row into multiple questions. For each question, we remove the question number (e.g., \"1.\") and create a new DataFrame (new_df) containing the current question and its corresponding 'category', 'title', and 'context'. Finally, we add new_df to df2 and update the question number i."
      ],
      "metadata": {
        "id": "-k9EDv0hIxdJ"
      }
    },
    {
      "cell_type": "code",
      "source": [
        "import re\n",
        "\n",
        "# Create a new empty DataFrame called 'df2' with four columns\n",
        "df2 = pd.DataFrame(columns=['category', 'title', 'context', 'question'])\n",
        "\n",
        "# Iterate through each row in 'df'\n",
        "for index, row in df.iterrows():\n",
        "    # Split the 'questions' column in each row into multiple questions\n",
        "    questions = row['questions'].split(\"\\n\")\n",
        "    i = 1\n",
        "    for q in questions:\n",
        "        if len(q) != 0:\n",
        "            # Remove the question number (e.g., \"1.\") and strip leading whitespace\n",
        "            q = re.sub(\"\\d.\", \"\", q, count=1).lstrip()\n",
        "            \n",
        "            # Create a new DataFrame containing the current question and its corresponding 'category', 'title', and 'context'\n",
        "            new_df = pd.DataFrame(data={'category': [row['category']], 'title': [row['title']], 'context': [row['context']], 'question': [q]})\n",
        "            \n",
        "            # Add 'new_df' to 'df2'\n",
        "            df2 = pd.concat([df2, new_df], axis=0, ignore_index=True)\n",
        "            \n",
        "            # Update the question number\n",
        "            i = i + 1"
      ],
      "metadata": {
        "id": "z2BHWvfwkL3z"
      },
      "execution_count": null,
      "outputs": []
    },
    {
      "cell_type": "markdown",
      "source": [
        "在這裡，我們顯示整個 df2 DataFrame。根據之前的程式碼，df2 包含從原始 df DataFrame 生成的處理過的問題，每個問題與相應的 'category'、'title' 和 'context' 存儲在單獨的行中。\n",
        "\n",
        "Here, we display the entire df2 DataFrame. Based on the previous code, df2 contains the processed questions generated from the original df DataFrame, with each question and its corresponding 'category', 'title', and 'context' stored in separate rows."
      ],
      "metadata": {
        "id": "1yoakuoGI2dh"
      }
    },
    {
      "cell_type": "code",
      "source": [
        "# Display the entire 'df2' DataFrame\n",
        "df2"
      ],
      "metadata": {
        "id": "hCo2wu2akNSX"
      },
      "execution_count": null,
      "outputs": []
    },
    {
      "cell_type": "markdown",
      "source": [
        "## Create answers based on the context"
      ],
      "metadata": {
        "id": "vR5sVB9I3Bq0"
      }
    },
    {
      "cell_type": "markdown",
      "source": [
        "我們在這裡定義了一個名為 chatGPT_get_answers 的函數，它接收一個名為 row 的參數。函數中，我們嘗試建立一個問題 q，根據文字說明來回答問題。然後，我們使用 GPT-3.5 Turbo 模型向 OpenAI 請求回答。如果一切正常，我們將返回去除左右空格後的答案內容。如果遇到錯誤，則返回空字符串。\n",
        "\n",
        "We define a function called chatGPT_get_answers, which takes a parameter called row. In the function, we try to create a question q based on the text description to answer the question. Then, we request an answer from OpenAI using the GPT-3.5 Turbo model. If everything goes well, we return the answer content with leading and trailing whitespaces removed. If there is an error, we return an empty string."
      ],
      "metadata": {
        "id": "F0o-oO--I9rt"
      }
    },
    {
      "cell_type": "code",
      "source": [
        "def chatGPT_get_answers(row):\n",
        "    try:\n",
        "        # Create a question based on the text description to answer the question\n",
        "        q = \"請根據下列的文字說明來回答問題\\n\\n文字說明： {\"+row.context+\"}\\n\\n問題：\\n{\"+row.question+\"}\\n\\n答案：\"\n",
        "        \n",
        "        # Request an answer from OpenAI using the GPT-3.5 Turbo model\n",
        "        rsp = openai.ChatCompletion.create(\n",
        "            model=\"gpt-3.5-turbo-0301\",\n",
        "            messages=[\n",
        "                {\"role\": \"system\", \"content\": \"中研院\"},\n",
        "                {\"role\": \"user\", \"content\": q}\n",
        "            ]\n",
        "        )\n",
        "        \n",
        "        # Return the answer content with leading and trailing whitespaces removed\n",
        "        return rsp.get(\"choices\")[0][\"message\"][\"content\"].lstrip().rstrip()\n",
        "    except:\n",
        "        # Return an empty string if there is an error\n",
        "        return \"\""
      ],
      "metadata": {
        "id": "kQSsE5903MTW"
      },
      "execution_count": null,
      "outputs": []
    },
    {
      "cell_type": "markdown",
      "source": [
        "在下面這段程式碼中，我們首先使用 apply 函數將 chatGPT_get_answers 函數應用到 df2 的每一行，並將結果存儲在名為 answer 的新列中。接著，我們移除 answer 列中的左右空格。然後，我們從 df2 中移除空值，重新設置索引，刪除索引列。最後，我們印出 df2 中第一行的 answer 列的值。\n",
        "\n",
        "In the following code snippet, we first use the apply function to apply the chatGPT_get_answers function to each row of df2 and store the result in a new column called answer. Then, we remove leading and trailing whitespaces from the answer column. Next, we remove null values from df2, reset the index, and drop the index column. Finally, we print the value of the answer column in the first row of df2."
      ],
      "metadata": {
        "id": "zqW-WIu0JCMF"
      }
    },
    {
      "cell_type": "code",
      "source": [
        "# Apply the 'chatGPT_get_answers' function to each row of 'df2' and store the result in a new column called 'answer'\n",
        "df2['answer'] = df2.apply(chatGPT_get_answers, axis=1)\n",
        "\n",
        "# Remove leading and trailing whitespaces from the 'answer' column\n",
        "df2['answer'] = df2.answer\n",
        "\n",
        "# Remove null values from 'df2', reset the index, and drop the index column\n",
        "df2 = df2.dropna().reset_index().drop('index', axis=1)\n",
        "\n",
        "# Print the value of the 'answer' column in the first row of 'df2'\n",
        "print(df2[['answer']].values[0][0])"
      ],
      "metadata": {
        "id": "nf2BNlgL3O9X"
      },
      "execution_count": null,
      "outputs": []
    },
    {
      "cell_type": "markdown",
      "source": [
        "## Save Q/A to a CSV file"
      ],
      "metadata": {
        "id": "N2Snzwyl3Azs"
      }
    },
    {
      "cell_type": "markdown",
      "source": [
        "將 df2 DataFrame 寫入名為 faq_name 的 CSV 文件中，不包含索引列。\n",
        "\n",
        "This line of code writes the df2 DataFrame to a CSV file named faq_name, without including the index column."
      ],
      "metadata": {
        "id": "oOkOpboSJHes"
      }
    },
    {
      "cell_type": "code",
      "source": [
        "# Write the 'df2' DataFrame to a CSV file named 'faq_name', without including the index column\n",
        "df2.to_csv(faq_name, index=False)"
      ],
      "metadata": {
        "id": "pq3hugXI3vr8"
      },
      "execution_count": null,
      "outputs": []
    },
    {
      "cell_type": "markdown",
      "source": [
        "# Generate FAQ Pages"
      ],
      "metadata": {
        "id": "LcrpNIwr84bl"
      }
    },
    {
      "cell_type": "markdown",
      "source": [
        "## Read QA csv file"
      ],
      "metadata": {
        "id": "AuiuCxaw9CFF"
      }
    },
    {
      "cell_type": "markdown",
      "source": [
        "在這段程式碼中，我們首先使用 read_csv 函數讀取名為 faq_name 的 CSV 文件，並將其存儲在一個名為 df 的 DataFrame 中。接著，我們印出 df 中的行數。然後，我們使用 dropna 函數移除 df 中的空行。最後，我們印出 df 的前五行。\n",
        "\n",
        "In this code snippet, we first use the read_csv function to read the CSV file named faq_name and store it in a DataFrame called df. Then, we print the number of rows in df. Next, we use the dropna function to remove empty rows from df. Finally, we print the first five rows of df."
      ],
      "metadata": {
        "id": "-9knJgj6JPKd"
      }
    },
    {
      "cell_type": "code",
      "source": [
        "# Read the CSV file named 'faq_name' and store it in a DataFrame called 'df'\n",
        "df = pd.read_csv(faq_name)\n",
        "\n",
        "# Print the number of rows in 'df'\n",
        "print(\"Before removing empty rows: \" + str(len(df.index)))\n",
        "\n",
        "# Remove empty rows from 'df'\n",
        "df.dropna(inplace=True)\n",
        "\n",
        "# Print the number of rows in 'df' after removing empty rows\n",
        "print(\"After removing empty rows: \" + str(len(df.index)))\n",
        "\n",
        "# Print the first five rows of 'df'\n",
        "df.head()"
      ],
      "metadata": {
        "id": "4LbKkDk5889H"
      },
      "execution_count": null,
      "outputs": []
    },
    {
      "cell_type": "markdown",
      "source": [
        "## Convert to HTML files"
      ],
      "metadata": {
        "id": "TdanSu1P0xcr"
      }
    },
    {
      "cell_type": "markdown",
      "source": [
        "在這段程式碼中，我們首先使用 iterrows 函數遍歷 df 中的每一行，如果類別不在 FAQ 中，則添加一個新的類別。接著，我們將每個問題和答案添加到相應的類別中。然後，我們使用 HTML 和 CSS 創建一個基本的網頁模板，將 FAQ 呈現為摺疊式的結構，並將其寫入名為 faq_name.html 的文件中。\n",
        "\n",
        "In this code snippet, we first use the iterrows function to iterate through each row of df. If the category is not in FAQ, we add a new category. Then, we add each question and answer to the corresponding category. Next, we use HTML and CSS to create a basic webpage template that presents the FAQ as a collapsible structure and write it to a file named faq_name.html."
      ],
      "metadata": {
        "id": "6N5xERhcJV6v"
      }
    },
    {
      "cell_type": "code",
      "source": [
        "FAQ = {}\n",
        "for index, row in df.iterrows():\n",
        "  if row.category not in FAQ:\n",
        "    FAQ[row.category] = {}\n",
        "  FAQ[row.category][ \"[\" + row.title + \"] \" + row.question] = row.answer\n",
        "\n",
        "html = \"<html><head>\"\n",
        "html += \"</head><body>\"\n",
        "\n",
        "html += \"<div class=\\\"container\\\">\"\n",
        "html += \"<center><h1>\" + HTML_title + \"</h1><p></center>\"\n",
        "\n",
        "html += \"<div class=\\\"accordion_one\\\"><div id=\\\"accordion\\\">\"\n",
        "num = 1\n",
        "for category in FAQ:\n",
        "  html += '<div class=\"card\">'\n",
        "  if num==1:\n",
        "    html += '<div class=\"card-header\" id=\"heading-'+str(num)+'\"><h5 class=\"mb-0\"><button class=\"btn btn-link\" data-toggle=\"collapse\" data-target=\"#collapse-'+str(num)+'\" aria-expanded=\"true\" aria-controls=\"collapse-'+str(num)+'\">'\n",
        "  else:\n",
        "    html += '<div class=\"card-header\" id=\"heading-'+str(num)+'\"><h5 class=\"mb-0\"><button class=\"btn btn-link collapsed\" data-toggle=\"collapse\" data-target=\"#collapse-'+str(num)+'\" aria-expanded=\"false\" aria-controls=\"collapse-'+str(num)+'\">'\n",
        "  html += \"<h2>\" + category + \"</h2>\"\n",
        "  html += '</button></h5>'\n",
        "  html += '</div>'\n",
        "  if num==1:\n",
        "    html += '<div id=\"collapse-'+str(num)+'\" class=\"collapse show\" aria-labelledby=\"heading-'+str(num)+'\" data-parent=\"#accordion\">'\n",
        "  else:\n",
        "    html += '<div id=\"collapse-'+str(num)+'\" class=\"collapse\" aria-labelledby=\"heading-'+str(num)+'\" data-parent=\"#accordion\">'   \n",
        "  html += '<div class=\"card-body\">'\n",
        "\n",
        "  html += '<div class=\"panel-group\" id=\"accordionFourLeft\">'\n",
        "  for question in FAQ[category]:\n",
        "    html += '<div class=\"panel panel-default\"><div class=\"panel-heading\"><h4 class=\"panel-title\"><a data-toggle=\"collapse\" data-parent=\"#accordion_oneLeft\" href=\"#collapseFiveLeft-'+str(num)+'\" aria-expanded=\"false\" class=\"collapsed\">'\n",
        "    html += question\n",
        "    html += '</a></h4></div><div id=\"collapseFiveLeft-'+str(num)+'\" class=\"panel-collapse collapse\" aria-expanded=\"false\" role=\"tablist\" style=\"height: 0px;\"><div class=\"panel-body\"><div class=\"text-accordion\"><p>'\n",
        "    html += FAQ[category][question]\n",
        "    html += '</p></div></div></div></div>'\n",
        "    num = num + 1\n",
        "  html += '</div>'\n",
        "\n",
        "  html += '</div></div></div>'\n",
        "html += '</div></div>'\n",
        "html += '</div>'\n",
        "html += '</body></html>'\n",
        "print(html)\n",
        "with open(faq_name + '.html', 'w') as writefile:\n",
        "    writefile.write(html)\n",
        "    writefile.close()\n"
      ],
      "metadata": {
        "id": "GV57MNyb9ZqZ"
      },
      "execution_count": null,
      "outputs": []
    },
    {
      "cell_type": "markdown",
      "source": [
        "# Reference\n",
        "\n",
        "- [Creating a synthetic Q&A dataset](https://github.com/openai/openai-cookbook/blob/main/examples/fine-tuned_qa/olympics-2-create-qa.ipynb)\n"
      ],
      "metadata": {
        "id": "Jgwh8L6xQeEl"
      }
    }
  ]
}