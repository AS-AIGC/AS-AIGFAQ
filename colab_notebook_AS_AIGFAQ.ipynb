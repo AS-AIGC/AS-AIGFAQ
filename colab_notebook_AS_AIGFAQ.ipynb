{
  "nbformat": 4,
  "nbformat_minor": 0,
  "metadata": {
    "colab": {
      "provenance": [],
      "toc_visible": true,
      "authorship_tag": "ABX9TyMFHy4DOZGgyy8rKy0kZIRT",
      "include_colab_link": true
    },
    "kernelspec": {
      "name": "python3",
      "display_name": "Python 3"
    },
    "language_info": {
      "name": "python"
    }
  },
  "cells": [
    {
      "cell_type": "markdown",
      "metadata": {
        "id": "view-in-github",
        "colab_type": "text"
      },
      "source": [
        "<a href=\"https://colab.research.google.com/github/AS-AIGFAQ/AS-AIGFAQ/blob/main/colab_notebook_AS_AIGFAQ.ipynb\" target=\"_parent\"><img src=\"https://colab.research.google.com/assets/colab-badge.svg\" alt=\"Open In Colab\"/></a>"
      ]
    },
    {
      "cell_type": "markdown",
      "source": [
        "# AI Generated FAQ by Academia Sinica (AS-AIGFAQ)\n",
        "\n",
        "## 現有行政服務的常態與問題\n",
        "\n",
        "- 所有的法條、服務說明、公告事項都會放置在網站上\n",
        "- 網頁就像一個大迷宮，什麼都有，但是想找的往往都找不到\n",
        "- 最快的方法就是打電話問承辦人，導致承辦人花費大量的時間在回答類似的問題，反而減少可以處理日常公務的時間\n",
        "\n",
        "## 現有行政服務的解方\n",
        "\n",
        "- 單一服務窗口：由專業客服代為回答簡易問題。但是，複雜問題仍須轉介承辦人、轉介案的回應所需時間拉長、客服可能判斷錯誤\n",
        "- 整理 FAQ 讓使用者自行查詢：由專人撰寫且隨時更新 FAQ。但是，FAQ 的文句、口氣、題目類型難以標準化；更新時容易掛一漏萬\n",
        "- 導入 chatbot ：根據資料庫設計交談式機器人回答問題。但是，往往只能回答制式問題、需花費大量成本進行調校\n",
        "\n",
        "## 我們的解法\n",
        "\n",
        "- 讓 chatGPT 提供對使用者感興趣的問題建議，進而達到自動生成 FAQ 的目標\n",
        "- 透過 OpenAI API，施展咒語 (prompt) 讓 chatGPT  依據輸入的內容 (context，即相關規定) 提出問題；接著再請 chatGPT  依據輸入的內容，回答所收集到的問題\n",
        "\n",
        "\n",
        "## 註記\n",
        "\n",
        "以下程式內容說明與註解，皆由 ChatGPT 產生，並經人工簡略編輯而成。\n"
      ],
      "metadata": {
        "id": "Mr6lRQhJewx_"
      }
    },
    {
      "cell_type": "markdown",
      "source": [
        "## Initialization"
      ],
      "metadata": {
        "id": "wWIOAMc_e9so"
      }
    },
    {
      "cell_type": "markdown",
      "source": [
        "首先我們升級 pip 和 openai 套件的版本，並且設定為在靜默模式下執行，以避免顯示太多的輸出。\n",
        "\n",
        "First, we upgrade the versions of the pip and openai packages in quiet mode to avoid displaying too much output."
      ],
      "metadata": {
        "id": "k_m9i4DNH_5u"
      }
    },
    {
      "cell_type": "code",
      "source": [
        "# Upgrade pip (Python package installer) to the latest version in quiet mode\n",
        "!pip install -q --upgrade pip\n",
        "\n",
        "# Install or upgrade the 'openai' package in quiet mode\n",
        "!pip install -q --upgrade openai"
      ],
      "metadata": {
        "id": "yjPUqdjJfB_l"
      },
      "execution_count": null,
      "outputs": []
    },
    {
      "cell_type": "markdown",
      "source": [
        "接著導入 openai 和 pandas 庫，然後設置了環境變量 OPENAI_API_KEY 的值。接著並將 openai.api_key 設為 API 密鑰。最後，設置了文件名和 HTML 標題。\n",
        "\n",
        "We import the openai and pandas libraries, then sets the value of the environment variable OPENAI_API_KEY. After that, it sets openai.api_key to the API key. Finally, it sets the file name and HTML title."
      ],
      "metadata": {
        "id": "E7mYhtyfILJp"
      }
    },
    {
      "cell_type": "code",
      "source": [
        "import openai\n",
        "import pandas as pd\n",
        "\n",
        "# Set the environment variable for OpenAI API key\n",
        "%env OPENAI_API_KEY=YOUR_OPENAI_API_KEY\n",
        "\n",
        "# Set organization and API key for OpenAI\n",
        "openai.organization = \"\"\n",
        "openai.api_key = \"YOUR_OPENAI_API_KEY\"\n",
        "\n",
        "# Set the file name and HTML title\n",
        "fname = 'AS-ITS'\n",
        "HTML_title = '中央研究院 資訊服務 FAQ'\n",
        "\n",
        "faq_name = fname + '-QA.csv'"
      ],
      "metadata": {
        "id": "PIkdS_OMfOpi"
      },
      "execution_count": null,
      "outputs": []
    },
    {
      "cell_type": "markdown",
      "source": [
        "# Read in the data"
      ],
      "metadata": {
        "id": "qTcUJ0jxfg7G"
      }
    },
    {
      "cell_type": "markdown",
      "source": [
        "我們首先從 csv 檔案中讀取資料並將其存入名為 df 的變數。然後，我們印出原始資料的行數。接著，我們使用 dropna 函數移除 df 中所有空行，並用 inplace 參數直接替換原資料。最後，我們印出移除空行後的行數，並顯示前五行資料。\n",
        "\n",
        "We first read data from a csv file and store it in a variable called df. Then, we print the number of rows in the original data. After that, we use the dropna function to remove all empty rows in df, and replace the original data directly with the inplace parameter. Finally, we print the number of rows after removing empty rows and display the first five rows of data."
      ],
      "metadata": {
        "id": "j7vcO8oOIRuj"
      }
    },
    {
      "cell_type": "code",
      "source": [
        "# Read data from a csv file and store it in the 'df' variable\n",
        "df = pd.read_csv(fname + \".csv\")\n",
        "\n",
        "# Print the number of rows in the original data\n",
        "print(\"Before removing empty rows: \" + str(len(df.index)))\n",
        "\n",
        "# Remove all empty rows in 'df' and replace the original data directly with the inplace parameter\n",
        "df.dropna(inplace = True)   \n",
        "\n",
        "# Print the number of rows after removing empty rows\n",
        "print(\"After removing empty rows: \" + str(len(df.index)))\n",
        "\n",
        "# Display the first five rows of data\n",
        "df.head()"
      ],
      "metadata": {
        "id": "BmuPHAJ4fkaZ",
        "colab": {
          "base_uri": "https://localhost:8080/",
          "height": 240
        },
        "outputId": "0c643c63-9cd1-4b11-a868-c33fc2010327"
      },
      "execution_count": null,
      "outputs": [
        {
          "output_type": "stream",
          "name": "stdout",
          "text": [
            "Before removing empty rows: 15\n",
            "After removing empty rows: 15\n"
          ]
        },
        {
          "output_type": "execute_result",
          "data": {
            "text/plain": [
              "            category     title  \\\n",
              "0           學術處計畫申請案  學術處計畫申請案   \n",
              "1           學術處計畫申請案  學術處計畫申請案   \n",
              "2           學術處計畫申請案  第一、二類型計畫   \n",
              "3  學術處計畫申請案-第一、二類型計畫      前瞻計畫   \n",
              "4  學術處計畫申請案-第一、二類型計畫      深耕計畫   \n",
              "\n",
              "                                             context  \n",
              "0  為推展未來研究工作，達成中研院三大目標「成就全球頂尖研究、善盡社會關鍵責任、延攬培育卓越人才...  \n",
              "1  自110 年起重新規劃中研院研究人員可向院方申請的競爭型學術研究計畫經費之類型，依計畫性質與...  \n",
              "2  中研院研究人員可主動向院方申請的競爭型學術研究計畫經費之類型，為第一、二類型計畫：1)前瞻計...  \n",
              "3  中研院前瞻計畫旨在延攬、拔擢研究成果優異並深具發展潛力的年輕學者，以進行具國際競爭力之前瞻性...  \n",
              "4  中研院深耕計畫旨在拔擢並長期培育中研院傑出且具潛能之研究人員，使其長期致力於知識領域重要課題...  "
            ],
            "text/html": [
              "\n",
              "  <div id=\"df-bd0a201b-f7d7-4017-af8c-ebf0b7f30172\">\n",
              "    <div class=\"colab-df-container\">\n",
              "      <div>\n",
              "<style scoped>\n",
              "    .dataframe tbody tr th:only-of-type {\n",
              "        vertical-align: middle;\n",
              "    }\n",
              "\n",
              "    .dataframe tbody tr th {\n",
              "        vertical-align: top;\n",
              "    }\n",
              "\n",
              "    .dataframe thead th {\n",
              "        text-align: right;\n",
              "    }\n",
              "</style>\n",
              "<table border=\"1\" class=\"dataframe\">\n",
              "  <thead>\n",
              "    <tr style=\"text-align: right;\">\n",
              "      <th></th>\n",
              "      <th>category</th>\n",
              "      <th>title</th>\n",
              "      <th>context</th>\n",
              "    </tr>\n",
              "  </thead>\n",
              "  <tbody>\n",
              "    <tr>\n",
              "      <th>0</th>\n",
              "      <td>學術處計畫申請案</td>\n",
              "      <td>學術處計畫申請案</td>\n",
              "      <td>為推展未來研究工作，達成中研院三大目標「成就全球頂尖研究、善盡社會關鍵責任、延攬培育卓越人才...</td>\n",
              "    </tr>\n",
              "    <tr>\n",
              "      <th>1</th>\n",
              "      <td>學術處計畫申請案</td>\n",
              "      <td>學術處計畫申請案</td>\n",
              "      <td>自110 年起重新規劃中研院研究人員可向院方申請的競爭型學術研究計畫經費之類型，依計畫性質與...</td>\n",
              "    </tr>\n",
              "    <tr>\n",
              "      <th>2</th>\n",
              "      <td>學術處計畫申請案</td>\n",
              "      <td>第一、二類型計畫</td>\n",
              "      <td>中研院研究人員可主動向院方申請的競爭型學術研究計畫經費之類型，為第一、二類型計畫：1)前瞻計...</td>\n",
              "    </tr>\n",
              "    <tr>\n",
              "      <th>3</th>\n",
              "      <td>學術處計畫申請案-第一、二類型計畫</td>\n",
              "      <td>前瞻計畫</td>\n",
              "      <td>中研院前瞻計畫旨在延攬、拔擢研究成果優異並深具發展潛力的年輕學者，以進行具國際競爭力之前瞻性...</td>\n",
              "    </tr>\n",
              "    <tr>\n",
              "      <th>4</th>\n",
              "      <td>學術處計畫申請案-第一、二類型計畫</td>\n",
              "      <td>深耕計畫</td>\n",
              "      <td>中研院深耕計畫旨在拔擢並長期培育中研院傑出且具潛能之研究人員，使其長期致力於知識領域重要課題...</td>\n",
              "    </tr>\n",
              "  </tbody>\n",
              "</table>\n",
              "</div>\n",
              "      <button class=\"colab-df-convert\" onclick=\"convertToInteractive('df-bd0a201b-f7d7-4017-af8c-ebf0b7f30172')\"\n",
              "              title=\"Convert this dataframe to an interactive table.\"\n",
              "              style=\"display:none;\">\n",
              "        \n",
              "  <svg xmlns=\"http://www.w3.org/2000/svg\" height=\"24px\"viewBox=\"0 0 24 24\"\n",
              "       width=\"24px\">\n",
              "    <path d=\"M0 0h24v24H0V0z\" fill=\"none\"/>\n",
              "    <path d=\"M18.56 5.44l.94 2.06.94-2.06 2.06-.94-2.06-.94-.94-2.06-.94 2.06-2.06.94zm-11 1L8.5 8.5l.94-2.06 2.06-.94-2.06-.94L8.5 2.5l-.94 2.06-2.06.94zm10 10l.94 2.06.94-2.06 2.06-.94-2.06-.94-.94-2.06-.94 2.06-2.06.94z\"/><path d=\"M17.41 7.96l-1.37-1.37c-.4-.4-.92-.59-1.43-.59-.52 0-1.04.2-1.43.59L10.3 9.45l-7.72 7.72c-.78.78-.78 2.05 0 2.83L4 21.41c.39.39.9.59 1.41.59.51 0 1.02-.2 1.41-.59l7.78-7.78 2.81-2.81c.8-.78.8-2.07 0-2.86zM5.41 20L4 18.59l7.72-7.72 1.47 1.35L5.41 20z\"/>\n",
              "  </svg>\n",
              "      </button>\n",
              "      \n",
              "  <style>\n",
              "    .colab-df-container {\n",
              "      display:flex;\n",
              "      flex-wrap:wrap;\n",
              "      gap: 12px;\n",
              "    }\n",
              "\n",
              "    .colab-df-convert {\n",
              "      background-color: #E8F0FE;\n",
              "      border: none;\n",
              "      border-radius: 50%;\n",
              "      cursor: pointer;\n",
              "      display: none;\n",
              "      fill: #1967D2;\n",
              "      height: 32px;\n",
              "      padding: 0 0 0 0;\n",
              "      width: 32px;\n",
              "    }\n",
              "\n",
              "    .colab-df-convert:hover {\n",
              "      background-color: #E2EBFA;\n",
              "      box-shadow: 0px 1px 2px rgba(60, 64, 67, 0.3), 0px 1px 3px 1px rgba(60, 64, 67, 0.15);\n",
              "      fill: #174EA6;\n",
              "    }\n",
              "\n",
              "    [theme=dark] .colab-df-convert {\n",
              "      background-color: #3B4455;\n",
              "      fill: #D2E3FC;\n",
              "    }\n",
              "\n",
              "    [theme=dark] .colab-df-convert:hover {\n",
              "      background-color: #434B5C;\n",
              "      box-shadow: 0px 1px 3px 1px rgba(0, 0, 0, 0.15);\n",
              "      filter: drop-shadow(0px 1px 2px rgba(0, 0, 0, 0.3));\n",
              "      fill: #FFFFFF;\n",
              "    }\n",
              "  </style>\n",
              "\n",
              "      <script>\n",
              "        const buttonEl =\n",
              "          document.querySelector('#df-bd0a201b-f7d7-4017-af8c-ebf0b7f30172 button.colab-df-convert');\n",
              "        buttonEl.style.display =\n",
              "          google.colab.kernel.accessAllowed ? 'block' : 'none';\n",
              "\n",
              "        async function convertToInteractive(key) {\n",
              "          const element = document.querySelector('#df-bd0a201b-f7d7-4017-af8c-ebf0b7f30172');\n",
              "          const dataTable =\n",
              "            await google.colab.kernel.invokeFunction('convertToInteractive',\n",
              "                                                     [key], {});\n",
              "          if (!dataTable) return;\n",
              "\n",
              "          const docLinkHtml = 'Like what you see? Visit the ' +\n",
              "            '<a target=\"_blank\" href=https://colab.research.google.com/notebooks/data_table.ipynb>data table notebook</a>'\n",
              "            + ' to learn more about interactive tables.';\n",
              "          element.innerHTML = '';\n",
              "          dataTable['output_type'] = 'display_data';\n",
              "          await google.colab.output.renderOutput(dataTable, element);\n",
              "          const docLink = document.createElement('div');\n",
              "          docLink.innerHTML = docLinkHtml;\n",
              "          element.appendChild(docLink);\n",
              "        }\n",
              "      </script>\n",
              "    </div>\n",
              "  </div>\n",
              "  "
            ]
          },
          "metadata": {},
          "execution_count": 3
        }
      ]
    },
    {
      "cell_type": "markdown",
      "source": [
        "# Use OpenAI API (gpt-3.5-turbo) to generate Q&A"
      ],
      "metadata": {
        "id": "hOjiKDkcw9rW"
      }
    },
    {
      "cell_type": "markdown",
      "source": [
        "## Create questions based on the data"
      ],
      "metadata": {
        "id": "QMr4kljMxGo1"
      }
    },
    {
      "cell_type": "markdown",
      "source": [
        "我們定義了一個名為 chatGPT_get_questions 的函數，它接收一個名為 row 的參數。函數中，我們嘗試建立一個問題 q，根據服務項目和服務說明來提出問題。然後，我們使用 GPT-3.5 Turbo 模型向 OpenAI 請求回答。如果一切正常，我們將返回回答內容。如果遇到錯誤，則返回空字符串。\n",
        "\n",
        "We define a function called chatGPT_get_questions, which takes a parameter called row. In the function, we try to create a question q based on the service item and service description. Then, we request an answer from OpenAI using the GPT-3.5 Turbo model. If everything goes well, we return the answer content. If there is an error, we return an empty string."
      ],
      "metadata": {
        "id": "XXjaUP3EIZoz"
      }
    },
    {
      "cell_type": "code",
      "source": [
        "def chatGPT_get_questions(row):\n",
        "    try:\n",
        "        # Create a question based on the service item and service description\n",
        "        q = \"請根據以下的服務項目與服務說明，提出以問號為結尾，並且清楚說明服務項目的問題\\n\\n服務項目：{\"+row.title+\"}\\n\\n服務說明：{\"+row.context+\"}\\n\\n問題：\\n1.\"\n",
        "        \n",
        "        # Request an answer from OpenAI using the GPT-3.5 Turbo model\n",
        "        rsp = openai.ChatCompletion.create(\n",
        "            model=\"gpt-3.5-turbo\",\n",
        "            messages=[\n",
        "                {\"role\": \"system\", \"content\": \"使用者\"},\n",
        "                {\"role\": \"user\", \"content\": q}\n",
        "            ]\n",
        "        )\n",
        "        \n",
        "        # Return the answer content\n",
        "        return rsp.get(\"choices\")[0][\"message\"][\"content\"]\n",
        "    except:\n",
        "        # Return an empty string if there is an error\n",
        "        return \"\""
      ],
      "metadata": {
        "id": "26EsRwgczXLz"
      },
      "execution_count": null,
      "outputs": []
    },
    {
      "cell_type": "markdown",
      "source": [
        "我們首先使用 apply 函數將 chatGPT_get_questions 函數應用到 df 的每一行，並將結果存儲在名為 questions 的新列中。接著，我們在每個 questions 列的開頭加上 \"1.\"。最後，我們印出 df 中第一行的 questions 列的值。\n",
        "\n",
        "We first use the apply function to apply the chatGPT_get_questions function to each row of df and store the result in a new column called questions. Then, we add \"1.\" to the beginning of each questions column. Finally, we print the value of the questions column in the first row of df."
      ],
      "metadata": {
        "id": "nUkGA2iYIbRY"
      }
    },
    {
      "cell_type": "code",
      "source": [
        "# Apply the 'chatGPT_get_questions' function to each row of 'df' and store the result in a new column called 'questions'\n",
        "df['questions'] = df.apply(chatGPT_get_questions, axis=1)\n",
        "\n",
        "# Add \"1.\" to the beginning of each 'questions' column\n",
        "df['questions'] = \"1.\" + df.questions\n",
        "\n",
        "# Print the value of the 'questions' column in the first row of 'df'\n",
        "print(df[['questions']].values[0][0])"
      ],
      "metadata": {
        "colab": {
          "base_uri": "https://localhost:8080/"
        },
        "id": "k38Aiz2JzVSy",
        "outputId": "eb515401-c85a-4818-dd3f-29be5eb7608d"
      },
      "execution_count": null,
      "outputs": [
        {
          "output_type": "stream",
          "name": "stdout",
          "text": [
            "1.這個服務項目是針對哪個機構的計畫申請案？\n",
            "2. 中研院在什麼目的下進行全院計畫重整？\n",
            "3. 「研究計畫研議小組」的任務是什麼？\n",
            "4. 計畫申請案的階段有哪些？每個階段需要提交哪些相關資料？\n",
            "5. 審查階段的過程是什麼？\n"
          ]
        }
      ]
    },
    {
      "cell_type": "markdown",
      "source": [
        "我們在這裡分別使用 head () 和 tail () 函數來查看 df 的前五行和後五行資料。\n",
        "\n",
        "Here, we use the head() and tail() functions to view the first five rows and last five rows of df, respectively."
      ],
      "metadata": {
        "id": "oV8Rxxe4IruA"
      }
    },
    {
      "cell_type": "code",
      "source": [
        "# Display the first five rows of 'df'\n",
        "df.head()\n",
        "\n",
        "# Display the last five rows of 'df'\n",
        "df.tail()"
      ],
      "metadata": {
        "colab": {
          "base_uri": "https://localhost:8080/",
          "height": 336
        },
        "id": "_ww_p2PT0npG",
        "outputId": "c8bbb342-f576-4f37-d14a-052bc449cea8"
      },
      "execution_count": null,
      "outputs": [
        {
          "output_type": "execute_result",
          "data": {
            "text/plain": [
              "            category     title  \\\n",
              "0           學術處計畫申請案  學術處計畫申請案   \n",
              "1           學術處計畫申請案  學術處計畫申請案   \n",
              "2           學術處計畫申請案  第一、二類型計畫   \n",
              "3  學術處計畫申請案-第一、二類型計畫      前瞻計畫   \n",
              "4  學術處計畫申請案-第一、二類型計畫      深耕計畫   \n",
              "\n",
              "                                             context  \\\n",
              "0  為推展未來研究工作，達成中研院三大目標「成就全球頂尖研究、善盡社會關鍵責任、延攬培育卓越人才...   \n",
              "1  自110 年起重新規劃中研院研究人員可向院方申請的競爭型學術研究計畫經費之類型，依計畫性質與...   \n",
              "2  中研院研究人員可主動向院方申請的競爭型學術研究計畫經費之類型，為第一、二類型計畫：1)前瞻計...   \n",
              "3  中研院前瞻計畫旨在延攬、拔擢研究成果優異並深具發展潛力的年輕學者，以進行具國際競爭力之前瞻性...   \n",
              "4  中研院深耕計畫旨在拔擢並長期培育中研院傑出且具潛能之研究人員，使其長期致力於知識領域重要課題...   \n",
              "\n",
              "                                           questions  \n",
              "0  1.這個服務項目是針對哪個機構的計畫申請案？\\n2. 中研院在什麼目的下進行全院計畫重整？\\...  \n",
              "1  1.中研院研究人員從哪一年開始可以向院方申請競爭型學術研究計畫經費？\\n\\n2. 這個學術處...  \n",
              "2  1.什麼是第一、二類型計畫？\\n2. 中研院的研究人員可以向誰申請第一、二類型計畫的經費？\\...  \n",
              "3  1.中研院前瞻計畫的目的是什麼？ \\n2. 哪些人可以擔任前瞻計畫的被推薦人？ \\n3. 進...  \n",
              "4  1.深耕計畫的目標是什麼？ \\n2. 誰可以擔任深耕計畫的計畫主持人？ \\n3. 深耕計畫是...  "
            ],
            "text/html": [
              "\n",
              "  <div id=\"df-56acb5f7-2d66-4fe6-af9a-2118525833a1\">\n",
              "    <div class=\"colab-df-container\">\n",
              "      <div>\n",
              "<style scoped>\n",
              "    .dataframe tbody tr th:only-of-type {\n",
              "        vertical-align: middle;\n",
              "    }\n",
              "\n",
              "    .dataframe tbody tr th {\n",
              "        vertical-align: top;\n",
              "    }\n",
              "\n",
              "    .dataframe thead th {\n",
              "        text-align: right;\n",
              "    }\n",
              "</style>\n",
              "<table border=\"1\" class=\"dataframe\">\n",
              "  <thead>\n",
              "    <tr style=\"text-align: right;\">\n",
              "      <th></th>\n",
              "      <th>category</th>\n",
              "      <th>title</th>\n",
              "      <th>context</th>\n",
              "      <th>questions</th>\n",
              "    </tr>\n",
              "  </thead>\n",
              "  <tbody>\n",
              "    <tr>\n",
              "      <th>0</th>\n",
              "      <td>學術處計畫申請案</td>\n",
              "      <td>學術處計畫申請案</td>\n",
              "      <td>為推展未來研究工作，達成中研院三大目標「成就全球頂尖研究、善盡社會關鍵責任、延攬培育卓越人才...</td>\n",
              "      <td>1.這個服務項目是針對哪個機構的計畫申請案？\\n2. 中研院在什麼目的下進行全院計畫重整？\\...</td>\n",
              "    </tr>\n",
              "    <tr>\n",
              "      <th>1</th>\n",
              "      <td>學術處計畫申請案</td>\n",
              "      <td>學術處計畫申請案</td>\n",
              "      <td>自110 年起重新規劃中研院研究人員可向院方申請的競爭型學術研究計畫經費之類型，依計畫性質與...</td>\n",
              "      <td>1.中研院研究人員從哪一年開始可以向院方申請競爭型學術研究計畫經費？\\n\\n2. 這個學術處...</td>\n",
              "    </tr>\n",
              "    <tr>\n",
              "      <th>2</th>\n",
              "      <td>學術處計畫申請案</td>\n",
              "      <td>第一、二類型計畫</td>\n",
              "      <td>中研院研究人員可主動向院方申請的競爭型學術研究計畫經費之類型，為第一、二類型計畫：1)前瞻計...</td>\n",
              "      <td>1.什麼是第一、二類型計畫？\\n2. 中研院的研究人員可以向誰申請第一、二類型計畫的經費？\\...</td>\n",
              "    </tr>\n",
              "    <tr>\n",
              "      <th>3</th>\n",
              "      <td>學術處計畫申請案-第一、二類型計畫</td>\n",
              "      <td>前瞻計畫</td>\n",
              "      <td>中研院前瞻計畫旨在延攬、拔擢研究成果優異並深具發展潛力的年輕學者，以進行具國際競爭力之前瞻性...</td>\n",
              "      <td>1.中研院前瞻計畫的目的是什麼？ \\n2. 哪些人可以擔任前瞻計畫的被推薦人？ \\n3. 進...</td>\n",
              "    </tr>\n",
              "    <tr>\n",
              "      <th>4</th>\n",
              "      <td>學術處計畫申請案-第一、二類型計畫</td>\n",
              "      <td>深耕計畫</td>\n",
              "      <td>中研院深耕計畫旨在拔擢並長期培育中研院傑出且具潛能之研究人員，使其長期致力於知識領域重要課題...</td>\n",
              "      <td>1.深耕計畫的目標是什麼？ \\n2. 誰可以擔任深耕計畫的計畫主持人？ \\n3. 深耕計畫是...</td>\n",
              "    </tr>\n",
              "  </tbody>\n",
              "</table>\n",
              "</div>\n",
              "      <button class=\"colab-df-convert\" onclick=\"convertToInteractive('df-56acb5f7-2d66-4fe6-af9a-2118525833a1')\"\n",
              "              title=\"Convert this dataframe to an interactive table.\"\n",
              "              style=\"display:none;\">\n",
              "        \n",
              "  <svg xmlns=\"http://www.w3.org/2000/svg\" height=\"24px\"viewBox=\"0 0 24 24\"\n",
              "       width=\"24px\">\n",
              "    <path d=\"M0 0h24v24H0V0z\" fill=\"none\"/>\n",
              "    <path d=\"M18.56 5.44l.94 2.06.94-2.06 2.06-.94-2.06-.94-.94-2.06-.94 2.06-2.06.94zm-11 1L8.5 8.5l.94-2.06 2.06-.94-2.06-.94L8.5 2.5l-.94 2.06-2.06.94zm10 10l.94 2.06.94-2.06 2.06-.94-2.06-.94-.94-2.06-.94 2.06-2.06.94z\"/><path d=\"M17.41 7.96l-1.37-1.37c-.4-.4-.92-.59-1.43-.59-.52 0-1.04.2-1.43.59L10.3 9.45l-7.72 7.72c-.78.78-.78 2.05 0 2.83L4 21.41c.39.39.9.59 1.41.59.51 0 1.02-.2 1.41-.59l7.78-7.78 2.81-2.81c.8-.78.8-2.07 0-2.86zM5.41 20L4 18.59l7.72-7.72 1.47 1.35L5.41 20z\"/>\n",
              "  </svg>\n",
              "      </button>\n",
              "      \n",
              "  <style>\n",
              "    .colab-df-container {\n",
              "      display:flex;\n",
              "      flex-wrap:wrap;\n",
              "      gap: 12px;\n",
              "    }\n",
              "\n",
              "    .colab-df-convert {\n",
              "      background-color: #E8F0FE;\n",
              "      border: none;\n",
              "      border-radius: 50%;\n",
              "      cursor: pointer;\n",
              "      display: none;\n",
              "      fill: #1967D2;\n",
              "      height: 32px;\n",
              "      padding: 0 0 0 0;\n",
              "      width: 32px;\n",
              "    }\n",
              "\n",
              "    .colab-df-convert:hover {\n",
              "      background-color: #E2EBFA;\n",
              "      box-shadow: 0px 1px 2px rgba(60, 64, 67, 0.3), 0px 1px 3px 1px rgba(60, 64, 67, 0.15);\n",
              "      fill: #174EA6;\n",
              "    }\n",
              "\n",
              "    [theme=dark] .colab-df-convert {\n",
              "      background-color: #3B4455;\n",
              "      fill: #D2E3FC;\n",
              "    }\n",
              "\n",
              "    [theme=dark] .colab-df-convert:hover {\n",
              "      background-color: #434B5C;\n",
              "      box-shadow: 0px 1px 3px 1px rgba(0, 0, 0, 0.15);\n",
              "      filter: drop-shadow(0px 1px 2px rgba(0, 0, 0, 0.3));\n",
              "      fill: #FFFFFF;\n",
              "    }\n",
              "  </style>\n",
              "\n",
              "      <script>\n",
              "        const buttonEl =\n",
              "          document.querySelector('#df-56acb5f7-2d66-4fe6-af9a-2118525833a1 button.colab-df-convert');\n",
              "        buttonEl.style.display =\n",
              "          google.colab.kernel.accessAllowed ? 'block' : 'none';\n",
              "\n",
              "        async function convertToInteractive(key) {\n",
              "          const element = document.querySelector('#df-56acb5f7-2d66-4fe6-af9a-2118525833a1');\n",
              "          const dataTable =\n",
              "            await google.colab.kernel.invokeFunction('convertToInteractive',\n",
              "                                                     [key], {});\n",
              "          if (!dataTable) return;\n",
              "\n",
              "          const docLinkHtml = 'Like what you see? Visit the ' +\n",
              "            '<a target=\"_blank\" href=https://colab.research.google.com/notebooks/data_table.ipynb>data table notebook</a>'\n",
              "            + ' to learn more about interactive tables.';\n",
              "          element.innerHTML = '';\n",
              "          dataTable['output_type'] = 'display_data';\n",
              "          await google.colab.output.renderOutput(dataTable, element);\n",
              "          const docLink = document.createElement('div');\n",
              "          docLink.innerHTML = docLinkHtml;\n",
              "          element.appendChild(docLink);\n",
              "        }\n",
              "      </script>\n",
              "    </div>\n",
              "  </div>\n",
              "  "
            ]
          },
          "metadata": {},
          "execution_count": 6
        }
      ]
    },
    {
      "cell_type": "markdown",
      "source": [
        "我們導入 re（正則表達式）模組。然後，創建一個新的空 DataFrame，命名為 df2，包含四個列：'category'、'title'、'context' 和 'question'。接著，我們遍歷 df 中的每一行，將每一行的 'questions' 列拆分成多個問題。對於每個問題，我們移除問題序號（例如 \"1.\"），並創建一個新的 DataFrame（new_df）包含當前問題及其相應的 'category'、'title' 和 'context'。最後，我們將 new_df 添加到 df2 中，並更新問題序號 i。\n",
        "\n",
        "We import the re (regular expression) module. Then, we create a new empty DataFrame called df2, containing four columns: 'category', 'title', 'context', and 'question'. Next, we iterate through each row in df, splitting the 'questions' column in each row into multiple questions. For each question, we remove the question number (e.g., \"1.\") and create a new DataFrame (new_df) containing the current question and its corresponding 'category', 'title', and 'context'. Finally, we add new_df to df2 and update the question number i."
      ],
      "metadata": {
        "id": "-k9EDv0hIxdJ"
      }
    },
    {
      "cell_type": "code",
      "source": [
        "import re\n",
        "\n",
        "# Create a new empty DataFrame called 'df2' with four columns\n",
        "df2 = pd.DataFrame(columns=['category', 'title', 'context', 'question'])\n",
        "\n",
        "# Iterate through each row in 'df'\n",
        "for index, row in df.iterrows():\n",
        "    # Split the 'questions' column in each row into multiple questions\n",
        "    questions = row['questions'].split(\"\\n\")\n",
        "    i = 1\n",
        "    for q in questions:\n",
        "        if len(q) != 0:\n",
        "            # Remove the question number (e.g., \"1.\") and strip leading whitespace\n",
        "            q = re.sub(\"\\d.\", \"\", q, count=1).lstrip()\n",
        "            \n",
        "            # Create a new DataFrame containing the current question and its corresponding 'category', 'title', and 'context'\n",
        "            new_df = pd.DataFrame(data={'category': [row['category']], 'title': [row['title']], 'context': [row['context']], 'question': [q]})\n",
        "            \n",
        "            # Add 'new_df' to 'df2'\n",
        "            df2 = pd.concat([df2, new_df], axis=0, ignore_index=True)\n",
        "            \n",
        "            # Update the question number\n",
        "            i = i + 1"
      ],
      "metadata": {
        "id": "z2BHWvfwkL3z"
      },
      "execution_count": null,
      "outputs": []
    },
    {
      "cell_type": "markdown",
      "source": [
        "在這裡，我們顯示整個 df2 DataFrame。根據之前的程式碼，df2 包含從原始 df DataFrame 生成的處理過的問題，每個問題與相應的 'category'、'title' 和 'context' 存儲在單獨的行中。\n",
        "\n",
        "Here, we display the entire df2 DataFrame. Based on the previous code, df2 contains the processed questions generated from the original df DataFrame, with each question and its corresponding 'category', 'title', and 'context' stored in separate rows."
      ],
      "metadata": {
        "id": "1yoakuoGI2dh"
      }
    },
    {
      "cell_type": "code",
      "source": [
        "# Display the entire 'df2' DataFrame\n",
        "df2"
      ],
      "metadata": {
        "colab": {
          "base_uri": "https://localhost:8080/",
          "height": 206
        },
        "id": "hCo2wu2akNSX",
        "outputId": "98b909da-59b1-48d6-80ad-9f65584cea7f"
      },
      "execution_count": null,
      "outputs": [
        {
          "output_type": "execute_result",
          "data": {
            "text/plain": [
              "   category     title                                            context  \\\n",
              "0  學術處計畫申請案  學術處計畫申請案  為推展未來研究工作，達成中研院三大目標「成就全球頂尖研究、善盡社會關鍵責任、延攬培育卓越人才...   \n",
              "1  學術處計畫申請案  學術處計畫申請案  為推展未來研究工作，達成中研院三大目標「成就全球頂尖研究、善盡社會關鍵責任、延攬培育卓越人才...   \n",
              "2  學術處計畫申請案  學術處計畫申請案  為推展未來研究工作，達成中研院三大目標「成就全球頂尖研究、善盡社會關鍵責任、延攬培育卓越人才...   \n",
              "3  學術處計畫申請案  學術處計畫申請案  為推展未來研究工作，達成中研院三大目標「成就全球頂尖研究、善盡社會關鍵責任、延攬培育卓越人才...   \n",
              "4  學術處計畫申請案  學術處計畫申請案  為推展未來研究工作，達成中研院三大目標「成就全球頂尖研究、善盡社會關鍵責任、延攬培育卓越人才...   \n",
              "\n",
              "                      question  \n",
              "0         這個服務項目是針對哪個機構的計畫申請案？  \n",
              "1           中研院在什麼目的下進行全院計畫重整？  \n",
              "2            「研究計畫研議小組」的任務是什麼？  \n",
              "3  計畫申請案的階段有哪些？每個階段需要提交哪些相關資料？  \n",
              "4                  審查階段的過程是什麼？  "
            ],
            "text/html": [
              "\n",
              "  <div id=\"df-5967eb1c-91b6-41fa-845a-27794c66659d\">\n",
              "    <div class=\"colab-df-container\">\n",
              "      <div>\n",
              "<style scoped>\n",
              "    .dataframe tbody tr th:only-of-type {\n",
              "        vertical-align: middle;\n",
              "    }\n",
              "\n",
              "    .dataframe tbody tr th {\n",
              "        vertical-align: top;\n",
              "    }\n",
              "\n",
              "    .dataframe thead th {\n",
              "        text-align: right;\n",
              "    }\n",
              "</style>\n",
              "<table border=\"1\" class=\"dataframe\">\n",
              "  <thead>\n",
              "    <tr style=\"text-align: right;\">\n",
              "      <th></th>\n",
              "      <th>category</th>\n",
              "      <th>title</th>\n",
              "      <th>context</th>\n",
              "      <th>question</th>\n",
              "    </tr>\n",
              "  </thead>\n",
              "  <tbody>\n",
              "    <tr>\n",
              "      <th>0</th>\n",
              "      <td>學術處計畫申請案</td>\n",
              "      <td>學術處計畫申請案</td>\n",
              "      <td>為推展未來研究工作，達成中研院三大目標「成就全球頂尖研究、善盡社會關鍵責任、延攬培育卓越人才...</td>\n",
              "      <td>這個服務項目是針對哪個機構的計畫申請案？</td>\n",
              "    </tr>\n",
              "    <tr>\n",
              "      <th>1</th>\n",
              "      <td>學術處計畫申請案</td>\n",
              "      <td>學術處計畫申請案</td>\n",
              "      <td>為推展未來研究工作，達成中研院三大目標「成就全球頂尖研究、善盡社會關鍵責任、延攬培育卓越人才...</td>\n",
              "      <td>中研院在什麼目的下進行全院計畫重整？</td>\n",
              "    </tr>\n",
              "    <tr>\n",
              "      <th>2</th>\n",
              "      <td>學術處計畫申請案</td>\n",
              "      <td>學術處計畫申請案</td>\n",
              "      <td>為推展未來研究工作，達成中研院三大目標「成就全球頂尖研究、善盡社會關鍵責任、延攬培育卓越人才...</td>\n",
              "      <td>「研究計畫研議小組」的任務是什麼？</td>\n",
              "    </tr>\n",
              "    <tr>\n",
              "      <th>3</th>\n",
              "      <td>學術處計畫申請案</td>\n",
              "      <td>學術處計畫申請案</td>\n",
              "      <td>為推展未來研究工作，達成中研院三大目標「成就全球頂尖研究、善盡社會關鍵責任、延攬培育卓越人才...</td>\n",
              "      <td>計畫申請案的階段有哪些？每個階段需要提交哪些相關資料？</td>\n",
              "    </tr>\n",
              "    <tr>\n",
              "      <th>4</th>\n",
              "      <td>學術處計畫申請案</td>\n",
              "      <td>學術處計畫申請案</td>\n",
              "      <td>為推展未來研究工作，達成中研院三大目標「成就全球頂尖研究、善盡社會關鍵責任、延攬培育卓越人才...</td>\n",
              "      <td>審查階段的過程是什麼？</td>\n",
              "    </tr>\n",
              "  </tbody>\n",
              "</table>\n",
              "</div>\n",
              "      <button class=\"colab-df-convert\" onclick=\"convertToInteractive('df-5967eb1c-91b6-41fa-845a-27794c66659d')\"\n",
              "              title=\"Convert this dataframe to an interactive table.\"\n",
              "              style=\"display:none;\">\n",
              "        \n",
              "  <svg xmlns=\"http://www.w3.org/2000/svg\" height=\"24px\"viewBox=\"0 0 24 24\"\n",
              "       width=\"24px\">\n",
              "    <path d=\"M0 0h24v24H0V0z\" fill=\"none\"/>\n",
              "    <path d=\"M18.56 5.44l.94 2.06.94-2.06 2.06-.94-2.06-.94-.94-2.06-.94 2.06-2.06.94zm-11 1L8.5 8.5l.94-2.06 2.06-.94-2.06-.94L8.5 2.5l-.94 2.06-2.06.94zm10 10l.94 2.06.94-2.06 2.06-.94-2.06-.94-.94-2.06-.94 2.06-2.06.94z\"/><path d=\"M17.41 7.96l-1.37-1.37c-.4-.4-.92-.59-1.43-.59-.52 0-1.04.2-1.43.59L10.3 9.45l-7.72 7.72c-.78.78-.78 2.05 0 2.83L4 21.41c.39.39.9.59 1.41.59.51 0 1.02-.2 1.41-.59l7.78-7.78 2.81-2.81c.8-.78.8-2.07 0-2.86zM5.41 20L4 18.59l7.72-7.72 1.47 1.35L5.41 20z\"/>\n",
              "  </svg>\n",
              "      </button>\n",
              "      \n",
              "  <style>\n",
              "    .colab-df-container {\n",
              "      display:flex;\n",
              "      flex-wrap:wrap;\n",
              "      gap: 12px;\n",
              "    }\n",
              "\n",
              "    .colab-df-convert {\n",
              "      background-color: #E8F0FE;\n",
              "      border: none;\n",
              "      border-radius: 50%;\n",
              "      cursor: pointer;\n",
              "      display: none;\n",
              "      fill: #1967D2;\n",
              "      height: 32px;\n",
              "      padding: 0 0 0 0;\n",
              "      width: 32px;\n",
              "    }\n",
              "\n",
              "    .colab-df-convert:hover {\n",
              "      background-color: #E2EBFA;\n",
              "      box-shadow: 0px 1px 2px rgba(60, 64, 67, 0.3), 0px 1px 3px 1px rgba(60, 64, 67, 0.15);\n",
              "      fill: #174EA6;\n",
              "    }\n",
              "\n",
              "    [theme=dark] .colab-df-convert {\n",
              "      background-color: #3B4455;\n",
              "      fill: #D2E3FC;\n",
              "    }\n",
              "\n",
              "    [theme=dark] .colab-df-convert:hover {\n",
              "      background-color: #434B5C;\n",
              "      box-shadow: 0px 1px 3px 1px rgba(0, 0, 0, 0.15);\n",
              "      filter: drop-shadow(0px 1px 2px rgba(0, 0, 0, 0.3));\n",
              "      fill: #FFFFFF;\n",
              "    }\n",
              "  </style>\n",
              "\n",
              "      <script>\n",
              "        const buttonEl =\n",
              "          document.querySelector('#df-5967eb1c-91b6-41fa-845a-27794c66659d button.colab-df-convert');\n",
              "        buttonEl.style.display =\n",
              "          google.colab.kernel.accessAllowed ? 'block' : 'none';\n",
              "\n",
              "        async function convertToInteractive(key) {\n",
              "          const element = document.querySelector('#df-5967eb1c-91b6-41fa-845a-27794c66659d');\n",
              "          const dataTable =\n",
              "            await google.colab.kernel.invokeFunction('convertToInteractive',\n",
              "                                                     [key], {});\n",
              "          if (!dataTable) return;\n",
              "\n",
              "          const docLinkHtml = 'Like what you see? Visit the ' +\n",
              "            '<a target=\"_blank\" href=https://colab.research.google.com/notebooks/data_table.ipynb>data table notebook</a>'\n",
              "            + ' to learn more about interactive tables.';\n",
              "          element.innerHTML = '';\n",
              "          dataTable['output_type'] = 'display_data';\n",
              "          await google.colab.output.renderOutput(dataTable, element);\n",
              "          const docLink = document.createElement('div');\n",
              "          docLink.innerHTML = docLinkHtml;\n",
              "          element.appendChild(docLink);\n",
              "        }\n",
              "      </script>\n",
              "    </div>\n",
              "  </div>\n",
              "  "
            ]
          },
          "metadata": {},
          "execution_count": 8
        }
      ]
    },
    {
      "cell_type": "markdown",
      "source": [
        "## Create answers based on the context"
      ],
      "metadata": {
        "id": "vR5sVB9I3Bq0"
      }
    },
    {
      "cell_type": "markdown",
      "source": [
        "我們在這裡定義了一個名為 chatGPT_get_answers 的函數，它接收一個名為 row 的參數。函數中，我們嘗試建立一個問題 q，根據文字說明來回答問題。然後，我們使用 GPT-3.5 Turbo 模型向 OpenAI 請求回答。如果一切正常，我們將返回去除左右空格後的答案內容。如果遇到錯誤，則返回空字符串。\n",
        "\n",
        "We define a function called chatGPT_get_answers, which takes a parameter called row. In the function, we try to create a question q based on the text description to answer the question. Then, we request an answer from OpenAI using the GPT-3.5 Turbo model. If everything goes well, we return the answer content with leading and trailing whitespaces removed. If there is an error, we return an empty string."
      ],
      "metadata": {
        "id": "F0o-oO--I9rt"
      }
    },
    {
      "cell_type": "code",
      "source": [
        "def chatGPT_get_answers(row):\n",
        "    try:\n",
        "        # Create a question based on the text description to answer the question\n",
        "        q = \"請根據下列的文字說明來回答問題\\n\\n文字說明： {\"+row.context+\"}\\n\\n問題：\\n{\"+row.question+\"}\\n\\n答案：\"\n",
        "        \n",
        "        # Request an answer from OpenAI using the GPT-3.5 Turbo model\n",
        "        rsp = openai.ChatCompletion.create(\n",
        "            model=\"gpt-3.5-turbo-0301\",\n",
        "            messages=[\n",
        "                {\"role\": \"system\", \"content\": \"中研院\"},\n",
        "                {\"role\": \"user\", \"content\": q}\n",
        "            ]\n",
        "        )\n",
        "        \n",
        "        # Return the answer content with leading and trailing whitespaces removed\n",
        "        return rsp.get(\"choices\")[0][\"message\"][\"content\"].lstrip().rstrip()\n",
        "    except:\n",
        "        # Return an empty string if there is an error\n",
        "        return \"\""
      ],
      "metadata": {
        "id": "kQSsE5903MTW"
      },
      "execution_count": null,
      "outputs": []
    },
    {
      "cell_type": "markdown",
      "source": [
        "在下面這段程式碼中，我們首先使用 apply 函數將 chatGPT_get_answers 函數應用到 df2 的每一行，並將結果存儲在名為 answer 的新列中。接著，我們移除 answer 列中的左右空格。然後，我們從 df2 中移除空值，重新設置索引，刪除索引列。最後，我們印出 df2 中第一行的 answer 列的值。\n",
        "\n",
        "In the following code snippet, we first use the apply function to apply the chatGPT_get_answers function to each row of df2 and store the result in a new column called answer. Then, we remove leading and trailing whitespaces from the answer column. Next, we remove null values from df2, reset the index, and drop the index column. Finally, we print the value of the answer column in the first row of df2."
      ],
      "metadata": {
        "id": "zqW-WIu0JCMF"
      }
    },
    {
      "cell_type": "code",
      "source": [
        "# Apply the 'chatGPT_get_answers' function to each row of 'df2' and store the result in a new column called 'answer'\n",
        "df2['answer'] = df2.apply(chatGPT_get_answers, axis=1)\n",
        "\n",
        "# Remove leading and trailing whitespaces from the 'answer' column\n",
        "df2['answer'] = df2.answer\n",
        "\n",
        "# Remove null values from 'df2', reset the index, and drop the index column\n",
        "df2 = df2.dropna().reset_index().drop('index', axis=1)\n",
        "\n",
        "# Print the value of the 'answer' column in the first row of 'df2'\n",
        "print(df2[['answer']].values[0][0])"
      ],
      "metadata": {
        "colab": {
          "base_uri": "https://localhost:8080/"
        },
        "id": "nf2BNlgL3O9X",
        "outputId": "bdbe0b54-2c0a-499c-b6f3-d3dad56fdec9"
      },
      "execution_count": null,
      "outputs": [
        {
          "output_type": "stream",
          "name": "stdout",
          "text": [
            "這個服務項目是針對中研院的計畫申請案。\n"
          ]
        }
      ]
    },
    {
      "cell_type": "markdown",
      "source": [
        "## Save Q/A to a CSV file"
      ],
      "metadata": {
        "id": "N2Snzwyl3Azs"
      }
    },
    {
      "cell_type": "markdown",
      "source": [
        "將 df2 DataFrame 寫入名為 faq_name 的 CSV 文件中，不包含索引列。\n",
        "\n",
        "This line of code writes the df2 DataFrame to a CSV file named faq_name, without including the index column."
      ],
      "metadata": {
        "id": "oOkOpboSJHes"
      }
    },
    {
      "cell_type": "code",
      "source": [
        "# Write the 'df2' DataFrame to a CSV file named 'faq_name', without including the index column\n",
        "df2.to_csv(faq_name, index=False)"
      ],
      "metadata": {
        "id": "pq3hugXI3vr8"
      },
      "execution_count": null,
      "outputs": []
    },
    {
      "cell_type": "markdown",
      "source": [
        "# Generate FAQ Pages"
      ],
      "metadata": {
        "id": "LcrpNIwr84bl"
      }
    },
    {
      "cell_type": "markdown",
      "source": [
        "## Read QA csv file"
      ],
      "metadata": {
        "id": "AuiuCxaw9CFF"
      }
    },
    {
      "cell_type": "markdown",
      "source": [
        "在這段程式碼中，我們首先使用 read_csv 函數讀取名為 faq_name 的 CSV 文件，並將其存儲在一個名為 df 的 DataFrame 中。接著，我們印出 df 中的行數。然後，我們使用 dropna 函數移除 df 中的空行。最後，我們印出 df 的前五行。\n",
        "\n",
        "In this code snippet, we first use the read_csv function to read the CSV file named faq_name and store it in a DataFrame called df. Then, we print the number of rows in df. Next, we use the dropna function to remove empty rows from df. Finally, we print the first five rows of df."
      ],
      "metadata": {
        "id": "-9knJgj6JPKd"
      }
    },
    {
      "cell_type": "code",
      "source": [
        "# Read the CSV file named 'faq_name' and store it in a DataFrame called 'df'\n",
        "df = pd.read_csv(faq_name)\n",
        "\n",
        "# Print the number of rows in 'df'\n",
        "print(\"Before removing empty rows: \" + str(len(df.index)))\n",
        "\n",
        "# Remove empty rows from 'df'\n",
        "df.dropna(inplace=True)\n",
        "\n",
        "# Print the number of rows in 'df' after removing empty rows\n",
        "print(\"After removing empty rows: \" + str(len(df.index)))\n",
        "\n",
        "# Print the first five rows of 'df'\n",
        "df.head()"
      ],
      "metadata": {
        "colab": {
          "base_uri": "https://localhost:8080/",
          "height": 371
        },
        "id": "4LbKkDk5889H",
        "outputId": "347b7c87-ac03-4994-d1e8-bbd7df0f109f"
      },
      "execution_count": null,
      "outputs": [
        {
          "output_type": "stream",
          "name": "stdout",
          "text": [
            "Before removing empty rows: 80\n",
            "After removing empty rows: 80\n"
          ]
        },
        {
          "output_type": "execute_result",
          "data": {
            "text/plain": [
              "   category     title                                            context  \\\n",
              "0  學術處計畫申請案  學術處計畫申請案  為推展未來研究工作，達成中研院三大目標「成就全球頂尖研究、善盡社會關鍵責任、延攬培育卓越人才...   \n",
              "1  學術處計畫申請案  學術處計畫申請案  為推展未來研究工作，達成中研院三大目標「成就全球頂尖研究、善盡社會關鍵責任、延攬培育卓越人才...   \n",
              "2  學術處計畫申請案  學術處計畫申請案  為推展未來研究工作，達成中研院三大目標「成就全球頂尖研究、善盡社會關鍵責任、延攬培育卓越人才...   \n",
              "3  學術處計畫申請案  學術處計畫申請案  為推展未來研究工作，達成中研院三大目標「成就全球頂尖研究、善盡社會關鍵責任、延攬培育卓越人才...   \n",
              "4  學術處計畫申請案  學術處計畫申請案  為推展未來研究工作，達成中研院三大目標「成就全球頂尖研究、善盡社會關鍵責任、延攬培育卓越人才...   \n",
              "\n",
              "                      question  \\\n",
              "0         這個服務項目是針對哪個機構的計畫申請案？   \n",
              "1           中研院在什麼目的下進行全院計畫重整？   \n",
              "2            「研究計畫研議小組」的任務是什麼？   \n",
              "3  計畫申請案的階段有哪些？每個階段需要提交哪些相關資料？   \n",
              "4                  審查階段的過程是什麼？   \n",
              "\n",
              "                                              answer  \n",
              "0                                這個服務項目是針對中研院的計畫申請案。  \n",
              "1  中研院在推展未來研究工作，達成三大目標「成就全球頂尖研究、善盡社會關鍵責任、延攬培育卓越人才...  \n",
              "2  「研究計畫研議小組」的任務是重新規劃中研院競爭型學術研究計畫類型，期盼建立制度化機制，落實經...  \n",
              "3  計畫申請案的階段分為三個，分別是申請、審查和執行。在申請階段，需要提交計畫申請案，內容包括研...  \n",
              "4                審查階段的過程包括初審、複審和決審，計畫將接受學者專家和委員會的審查。  "
            ],
            "text/html": [
              "\n",
              "  <div id=\"df-2289d42e-3b1b-4d6b-969c-ccf63b912624\">\n",
              "    <div class=\"colab-df-container\">\n",
              "      <div>\n",
              "<style scoped>\n",
              "    .dataframe tbody tr th:only-of-type {\n",
              "        vertical-align: middle;\n",
              "    }\n",
              "\n",
              "    .dataframe tbody tr th {\n",
              "        vertical-align: top;\n",
              "    }\n",
              "\n",
              "    .dataframe thead th {\n",
              "        text-align: right;\n",
              "    }\n",
              "</style>\n",
              "<table border=\"1\" class=\"dataframe\">\n",
              "  <thead>\n",
              "    <tr style=\"text-align: right;\">\n",
              "      <th></th>\n",
              "      <th>category</th>\n",
              "      <th>title</th>\n",
              "      <th>context</th>\n",
              "      <th>question</th>\n",
              "      <th>answer</th>\n",
              "    </tr>\n",
              "  </thead>\n",
              "  <tbody>\n",
              "    <tr>\n",
              "      <th>0</th>\n",
              "      <td>學術處計畫申請案</td>\n",
              "      <td>學術處計畫申請案</td>\n",
              "      <td>為推展未來研究工作，達成中研院三大目標「成就全球頂尖研究、善盡社會關鍵責任、延攬培育卓越人才...</td>\n",
              "      <td>這個服務項目是針對哪個機構的計畫申請案？</td>\n",
              "      <td>這個服務項目是針對中研院的計畫申請案。</td>\n",
              "    </tr>\n",
              "    <tr>\n",
              "      <th>1</th>\n",
              "      <td>學術處計畫申請案</td>\n",
              "      <td>學術處計畫申請案</td>\n",
              "      <td>為推展未來研究工作，達成中研院三大目標「成就全球頂尖研究、善盡社會關鍵責任、延攬培育卓越人才...</td>\n",
              "      <td>中研院在什麼目的下進行全院計畫重整？</td>\n",
              "      <td>中研院在推展未來研究工作，達成三大目標「成就全球頂尖研究、善盡社會關鍵責任、延攬培育卓越人才...</td>\n",
              "    </tr>\n",
              "    <tr>\n",
              "      <th>2</th>\n",
              "      <td>學術處計畫申請案</td>\n",
              "      <td>學術處計畫申請案</td>\n",
              "      <td>為推展未來研究工作，達成中研院三大目標「成就全球頂尖研究、善盡社會關鍵責任、延攬培育卓越人才...</td>\n",
              "      <td>「研究計畫研議小組」的任務是什麼？</td>\n",
              "      <td>「研究計畫研議小組」的任務是重新規劃中研院競爭型學術研究計畫類型，期盼建立制度化機制，落實經...</td>\n",
              "    </tr>\n",
              "    <tr>\n",
              "      <th>3</th>\n",
              "      <td>學術處計畫申請案</td>\n",
              "      <td>學術處計畫申請案</td>\n",
              "      <td>為推展未來研究工作，達成中研院三大目標「成就全球頂尖研究、善盡社會關鍵責任、延攬培育卓越人才...</td>\n",
              "      <td>計畫申請案的階段有哪些？每個階段需要提交哪些相關資料？</td>\n",
              "      <td>計畫申請案的階段分為三個，分別是申請、審查和執行。在申請階段，需要提交計畫申請案，內容包括研...</td>\n",
              "    </tr>\n",
              "    <tr>\n",
              "      <th>4</th>\n",
              "      <td>學術處計畫申請案</td>\n",
              "      <td>學術處計畫申請案</td>\n",
              "      <td>為推展未來研究工作，達成中研院三大目標「成就全球頂尖研究、善盡社會關鍵責任、延攬培育卓越人才...</td>\n",
              "      <td>審查階段的過程是什麼？</td>\n",
              "      <td>審查階段的過程包括初審、複審和決審，計畫將接受學者專家和委員會的審查。</td>\n",
              "    </tr>\n",
              "  </tbody>\n",
              "</table>\n",
              "</div>\n",
              "      <button class=\"colab-df-convert\" onclick=\"convertToInteractive('df-2289d42e-3b1b-4d6b-969c-ccf63b912624')\"\n",
              "              title=\"Convert this dataframe to an interactive table.\"\n",
              "              style=\"display:none;\">\n",
              "        \n",
              "  <svg xmlns=\"http://www.w3.org/2000/svg\" height=\"24px\"viewBox=\"0 0 24 24\"\n",
              "       width=\"24px\">\n",
              "    <path d=\"M0 0h24v24H0V0z\" fill=\"none\"/>\n",
              "    <path d=\"M18.56 5.44l.94 2.06.94-2.06 2.06-.94-2.06-.94-.94-2.06-.94 2.06-2.06.94zm-11 1L8.5 8.5l.94-2.06 2.06-.94-2.06-.94L8.5 2.5l-.94 2.06-2.06.94zm10 10l.94 2.06.94-2.06 2.06-.94-2.06-.94-.94-2.06-.94 2.06-2.06.94z\"/><path d=\"M17.41 7.96l-1.37-1.37c-.4-.4-.92-.59-1.43-.59-.52 0-1.04.2-1.43.59L10.3 9.45l-7.72 7.72c-.78.78-.78 2.05 0 2.83L4 21.41c.39.39.9.59 1.41.59.51 0 1.02-.2 1.41-.59l7.78-7.78 2.81-2.81c.8-.78.8-2.07 0-2.86zM5.41 20L4 18.59l7.72-7.72 1.47 1.35L5.41 20z\"/>\n",
              "  </svg>\n",
              "      </button>\n",
              "      \n",
              "  <style>\n",
              "    .colab-df-container {\n",
              "      display:flex;\n",
              "      flex-wrap:wrap;\n",
              "      gap: 12px;\n",
              "    }\n",
              "\n",
              "    .colab-df-convert {\n",
              "      background-color: #E8F0FE;\n",
              "      border: none;\n",
              "      border-radius: 50%;\n",
              "      cursor: pointer;\n",
              "      display: none;\n",
              "      fill: #1967D2;\n",
              "      height: 32px;\n",
              "      padding: 0 0 0 0;\n",
              "      width: 32px;\n",
              "    }\n",
              "\n",
              "    .colab-df-convert:hover {\n",
              "      background-color: #E2EBFA;\n",
              "      box-shadow: 0px 1px 2px rgba(60, 64, 67, 0.3), 0px 1px 3px 1px rgba(60, 64, 67, 0.15);\n",
              "      fill: #174EA6;\n",
              "    }\n",
              "\n",
              "    [theme=dark] .colab-df-convert {\n",
              "      background-color: #3B4455;\n",
              "      fill: #D2E3FC;\n",
              "    }\n",
              "\n",
              "    [theme=dark] .colab-df-convert:hover {\n",
              "      background-color: #434B5C;\n",
              "      box-shadow: 0px 1px 3px 1px rgba(0, 0, 0, 0.15);\n",
              "      filter: drop-shadow(0px 1px 2px rgba(0, 0, 0, 0.3));\n",
              "      fill: #FFFFFF;\n",
              "    }\n",
              "  </style>\n",
              "\n",
              "      <script>\n",
              "        const buttonEl =\n",
              "          document.querySelector('#df-2289d42e-3b1b-4d6b-969c-ccf63b912624 button.colab-df-convert');\n",
              "        buttonEl.style.display =\n",
              "          google.colab.kernel.accessAllowed ? 'block' : 'none';\n",
              "\n",
              "        async function convertToInteractive(key) {\n",
              "          const element = document.querySelector('#df-2289d42e-3b1b-4d6b-969c-ccf63b912624');\n",
              "          const dataTable =\n",
              "            await google.colab.kernel.invokeFunction('convertToInteractive',\n",
              "                                                     [key], {});\n",
              "          if (!dataTable) return;\n",
              "\n",
              "          const docLinkHtml = 'Like what you see? Visit the ' +\n",
              "            '<a target=\"_blank\" href=https://colab.research.google.com/notebooks/data_table.ipynb>data table notebook</a>'\n",
              "            + ' to learn more about interactive tables.';\n",
              "          element.innerHTML = '';\n",
              "          dataTable['output_type'] = 'display_data';\n",
              "          await google.colab.output.renderOutput(dataTable, element);\n",
              "          const docLink = document.createElement('div');\n",
              "          docLink.innerHTML = docLinkHtml;\n",
              "          element.appendChild(docLink);\n",
              "        }\n",
              "      </script>\n",
              "    </div>\n",
              "  </div>\n",
              "  "
            ]
          },
          "metadata": {},
          "execution_count": 12
        }
      ]
    },
    {
      "cell_type": "markdown",
      "source": [
        "## Convert to HTML files"
      ],
      "metadata": {
        "id": "TdanSu1P0xcr"
      }
    },
    {
      "cell_type": "markdown",
      "source": [
        "在這段程式碼中，我們首先使用 iterrows 函數遍歷 df 中的每一行，如果類別不在 FAQ 中，則添加一個新的類別。接著，我們將每個問題和答案添加到相應的類別中。然後，我們使用 HTML 和 CSS 創建一個基本的網頁模板，將 FAQ 呈現為摺疊式的結構，並將其寫入名為 faq_name.html 的文件中。\n",
        "\n",
        "In this code snippet, we first use the iterrows function to iterate through each row of df. If the category is not in FAQ, we add a new category. Then, we add each question and answer to the corresponding category. Next, we use HTML and CSS to create a basic webpage template that presents the FAQ as a collapsible structure and write it to a file named faq_name.html."
      ],
      "metadata": {
        "id": "6N5xERhcJV6v"
      }
    },
    {
      "cell_type": "code",
      "source": [
        "FAQ = {}\n",
        "for index, row in df.iterrows():\n",
        "  if row.category not in FAQ:\n",
        "    FAQ[row.category] = {}\n",
        "  FAQ[row.category][\"[\"+row.title+\"] \" +row.question] = row.answer\n",
        "\n",
        "html = '<html><head>'\n",
        "html += '<meta charset=\"utf-8\"><script src=\"https://cdnjs.cloudflare.com/ajax/libs/jquery/3.2.1/jquery.min.js\"></script>'\n",
        "html += '<link rel=\"stylesheet\" href=\"https://maxcdn.bootstrapcdn.com/bootstrap/4.0.0/css/bootstrap.min.css\">'\n",
        "html += '<link rel=\"stylesheet\" href=\"FAQ.css\">'\n",
        "html += '<script src=\"https://stackpath.bootstrapcdn.com/bootstrap/4.0.0/js/bootstrap.bundle.min.js\"></script>'\n",
        "html += '</head><body>'\n",
        "\n",
        "html += '<div class=\"container\">'\n",
        "html += '<center><h1>' + HTML_title + '</h1><p></center>'\n",
        "\n",
        "html += '<div class=\"accordion_one\"><div id=\"accordion\">'\n",
        "num = 1\n",
        "for category in FAQ:\n",
        "  html += '<div class=\"card\">'\n",
        "  if num==1:\n",
        "    html += '<div class=\"card-header\" id=\"heading-'+str(num)+'\"><h5 class=\"mb-0\"><button class=\"btn btn-link\" data-toggle=\"collapse\" data-target=\"#collapse-'+str(num)+'\" aria-expanded=\"true\" aria-controls=\"collapse-'+str(num)+'\">'\n",
        "  else:\n",
        "    html += '<div class=\"card-header\" id=\"heading-'+str(num)+'\"><h5 class=\"mb-0\"><button class=\"btn btn-link collapsed\" data-toggle=\"collapse\" data-target=\"#collapse-'+str(num)+'\" aria-expanded=\"false\" aria-controls=\"collapse-'+str(num)+'\">'\n",
        "  html += \"<h2>\" + category + \"</h2>\"\n",
        "  html += '</button></h5>'\n",
        "  html += '</div>'\n",
        "  if num==1:\n",
        "    html += '<div id=\"collapse-'+str(num)+'\" class=\"collapse show\" aria-labelledby=\"heading-'+str(num)+'\" data-parent=\"#accordion\">'\n",
        "  else:\n",
        "    html += '<div id=\"collapse-'+str(num)+'\" class=\"collapse\" aria-labelledby=\"heading-'+str(num)+'\" data-parent=\"#accordion\">'   \n",
        "  html += '<div class=\"card-body\">'\n",
        "\n",
        "  html += '<div class=\"panel-group\" id=\"accordionFourLeft\">'\n",
        "  for question in FAQ[category]:\n",
        "    html += '<div class=\"panel panel-default\"><div class=\"panel-heading\"><h4 class=\"panel-title\"><a data-toggle=\"collapse\" data-parent=\"#accordion_oneLeft\" href=\"#collapseFiveLeft-'+str(num)+'\" aria-expanded=\"false\" class=\"collapsed\">'\n",
        "    html += question\n",
        "    html += '</a></h4></div><div id=\"collapseFiveLeft-'+str(num)+'\" class=\"panel-collapse collapse\" aria-expanded=\"false\" role=\"tablist\" style=\"height: 0px;\"><div class=\"panel-body\"><div class=\"text-accordion\"><p>'\n",
        "    html += FAQ[category][question]\n",
        "    html += '</p></div></div></div></div>'\n",
        "    num = num + 1\n",
        "  html += '</div>'\n",
        "\n",
        "  html += '</div></div></div>'\n",
        "  #html += '</div>'\n",
        "html += '</div></div>'\n",
        "html += '</div>'\n",
        "html += '</body></html>'\n",
        "print(html)\n",
        "with open(faq_name + '.html', 'w') as writefile:\n",
        "    writefile.write(html)\n",
        "    writefile.close()"
      ],
      "metadata": {
        "colab": {
          "base_uri": "https://localhost:8080/"
        },
        "id": "GV57MNyb9ZqZ",
        "outputId": "5efd5df9-1dfe-4cbf-df64-2264580f5b71"
      },
      "execution_count": null,
      "outputs": [
        {
          "output_type": "stream",
          "name": "stdout",
          "text": [
            "<html><head><meta charset=\"utf-8\"><script src=\"https://cdnjs.cloudflare.com/ajax/libs/jquery/3.2.1/jquery.min.js\"></script><link rel=\"stylesheet\" href=\"https://maxcdn.bootstrapcdn.com/bootstrap/4.0.0/css/bootstrap.min.css\"><link rel=\"stylesheet\" href=\"FAQ.css\"><script src=\"https://stackpath.bootstrapcdn.com/bootstrap/4.0.0/js/bootstrap.bundle.min.js\"></script></head><body><div class=\"container\"><center><h1>中央研究院 學術處計畫申請FAQ</h1><p></center><div class=\"accordion_one\"><div id=\"accordion\"><div class=\"card\"><div class=\"card-header\" id=\"heading-1\"><h5 class=\"mb-0\"><button class=\"btn btn-link\" data-toggle=\"collapse\" data-target=\"#collapse-1\" aria-expanded=\"true\" aria-controls=\"collapse-1\"><h2>學術處計畫申請案</h2></button></h5></div><div id=\"collapse-1\" class=\"collapse show\" aria-labelledby=\"heading-1\" data-parent=\"#accordion\"><div class=\"card-body\"><div class=\"panel-group\" id=\"accordionFourLeft\"><div class=\"panel panel-default\"><div class=\"panel-heading\"><h4 class=\"panel-title\"><a data-toggle=\"collapse\" data-parent=\"#accordion_oneLeft\" href=\"#collapseFiveLeft-1\" aria-expanded=\"false\" class=\"collapsed\">[學術處計畫申請案] 這個服務項目是針對哪個機構的計畫申請案？</a></h4></div><div id=\"collapseFiveLeft-1\" class=\"panel-collapse collapse\" aria-expanded=\"false\" role=\"tablist\" style=\"height: 0px;\"><div class=\"panel-body\"><div class=\"text-accordion\"><p>這個服務項目是針對中研院的計畫申請案。</p></div></div></div></div><div class=\"panel panel-default\"><div class=\"panel-heading\"><h4 class=\"panel-title\"><a data-toggle=\"collapse\" data-parent=\"#accordion_oneLeft\" href=\"#collapseFiveLeft-2\" aria-expanded=\"false\" class=\"collapsed\">[學術處計畫申請案] 中研院在什麼目的下進行全院計畫重整？</a></h4></div><div id=\"collapseFiveLeft-2\" class=\"panel-collapse collapse\" aria-expanded=\"false\" role=\"tablist\" style=\"height: 0px;\"><div class=\"panel-body\"><div class=\"text-accordion\"><p>中研院在推展未來研究工作，達成三大目標「成就全球頂尖研究、善盡社會關鍵責任、延攬培育卓越人才」的目的下進行全院計畫重整。</p></div></div></div></div><div class=\"panel panel-default\"><div class=\"panel-heading\"><h4 class=\"panel-title\"><a data-toggle=\"collapse\" data-parent=\"#accordion_oneLeft\" href=\"#collapseFiveLeft-3\" aria-expanded=\"false\" class=\"collapsed\">[學術處計畫申請案] 「研究計畫研議小組」的任務是什麼？</a></h4></div><div id=\"collapseFiveLeft-3\" class=\"panel-collapse collapse\" aria-expanded=\"false\" role=\"tablist\" style=\"height: 0px;\"><div class=\"panel-body\"><div class=\"text-accordion\"><p>「研究計畫研議小組」的任務是重新規劃中研院競爭型學術研究計畫類型，期盼建立制度化機制，落實經費執行的可問責性，與研究資源分配的公開性與公平性。</p></div></div></div></div><div class=\"panel panel-default\"><div class=\"panel-heading\"><h4 class=\"panel-title\"><a data-toggle=\"collapse\" data-parent=\"#accordion_oneLeft\" href=\"#collapseFiveLeft-4\" aria-expanded=\"false\" class=\"collapsed\">[學術處計畫申請案] 計畫申請案的階段有哪些？每個階段需要提交哪些相關資料？</a></h4></div><div id=\"collapseFiveLeft-4\" class=\"panel-collapse collapse\" aria-expanded=\"false\" role=\"tablist\" style=\"height: 0px;\"><div class=\"panel-body\"><div class=\"text-accordion\"><p>計畫申請案的階段分為三個，分別是申請、審查和執行。在申請階段，需要提交計畫申請案，內容包括研究問題、目標、方法和預算等相關資料。在審查階段，計畫會接受學者專家和委員會的初審、複審與決審。最後，在執行階段核定通過的計畫將獲得充足的多年期經費補助，並在執行過程中給予輔導與管考。</p></div></div></div></div><div class=\"panel panel-default\"><div class=\"panel-heading\"><h4 class=\"panel-title\"><a data-toggle=\"collapse\" data-parent=\"#accordion_oneLeft\" href=\"#collapseFiveLeft-5\" aria-expanded=\"false\" class=\"collapsed\">[學術處計畫申請案] 審查階段的過程是什麼？</a></h4></div><div id=\"collapseFiveLeft-5\" class=\"panel-collapse collapse\" aria-expanded=\"false\" role=\"tablist\" style=\"height: 0px;\"><div class=\"panel-body\"><div class=\"text-accordion\"><p>審查階段的過程包括初審、複審和決審，計畫將接受學者專家和委員會的審查。</p></div></div></div></div><div class=\"panel panel-default\"><div class=\"panel-heading\"><h4 class=\"panel-title\"><a data-toggle=\"collapse\" data-parent=\"#accordion_oneLeft\" href=\"#collapseFiveLeft-6\" aria-expanded=\"false\" class=\"collapsed\">[學術處計畫申請案] 中研院研究人員從哪一年開始可以向院方申請競爭型學術研究計畫經費？</a></h4></div><div id=\"collapseFiveLeft-6\" class=\"panel-collapse collapse\" aria-expanded=\"false\" role=\"tablist\" style=\"height: 0px;\"><div class=\"panel-body\"><div class=\"text-accordion\"><p>自110年起。</p></div></div></div></div><div class=\"panel panel-default\"><div class=\"panel-heading\"><h4 class=\"panel-title\"><a data-toggle=\"collapse\" data-parent=\"#accordion_oneLeft\" href=\"#collapseFiveLeft-7\" aria-expanded=\"false\" class=\"collapsed\">[學術處計畫申請案] 這個學術處計畫申請案的經費分配方式是參考哪些條件？</a></h4></div><div id=\"collapseFiveLeft-7\" class=\"panel-collapse collapse\" aria-expanded=\"false\" role=\"tablist\" style=\"height: 0px;\"><div class=\"panel-body\"><div class=\"text-accordion\"><p>這個學術處計畫申請案的經費分配方式是依據不同計畫類型、個人型或團隊整合型、執行計畫之規模和深度、效益評估等條件，參考過往經驗及分析檢討後嚴謹規劃分配，再輔以計畫審議之相關實務研究成果加以修正。</p></div></div></div></div><div class=\"panel panel-default\"><div class=\"panel-heading\"><h4 class=\"panel-title\"><a data-toggle=\"collapse\" data-parent=\"#accordion_oneLeft\" href=\"#collapseFiveLeft-8\" aria-expanded=\"false\" class=\"collapsed\">[第一、二類型計畫] 什麼是第一、二類型計畫？</a></h4></div><div id=\"collapseFiveLeft-8\" class=\"panel-collapse collapse\" aria-expanded=\"false\" role=\"tablist\" style=\"height: 0px;\"><div class=\"panel-body\"><div class=\"text-accordion\"><p>第一、二類型計畫是中研院研究人員可主動向院方申請的競爭型學術研究計畫經費之類型，包括前瞻計畫、深耕計畫、主題研究計畫、關鍵突破種子計畫與關鍵突破研究計畫。</p></div></div></div></div><div class=\"panel panel-default\"><div class=\"panel-heading\"><h4 class=\"panel-title\"><a data-toggle=\"collapse\" data-parent=\"#accordion_oneLeft\" href=\"#collapseFiveLeft-9\" aria-expanded=\"false\" class=\"collapsed\">[第一、二類型計畫] 中研院的研究人員可以向誰申請第一、二類型計畫的經費？</a></h4></div><div id=\"collapseFiveLeft-9\" class=\"panel-collapse collapse\" aria-expanded=\"false\" role=\"tablist\" style=\"height: 0px;\"><div class=\"panel-body\"><div class=\"text-accordion\"><p>中研院的研究人員可以主動向院方申請第一、二類型計畫的經費。</p></div></div></div></div><div class=\"panel panel-default\"><div class=\"panel-heading\"><h4 class=\"panel-title\"><a data-toggle=\"collapse\" data-parent=\"#accordion_oneLeft\" href=\"#collapseFiveLeft-10\" aria-expanded=\"false\" class=\"collapsed\">[第一、二類型計畫] 第一、二類型計畫包含哪些具體的研究計畫類型？</a></h4></div><div id=\"collapseFiveLeft-10\" class=\"panel-collapse collapse\" aria-expanded=\"false\" role=\"tablist\" style=\"height: 0px;\"><div class=\"panel-body\"><div class=\"text-accordion\"><p>第一、二類型計畫包含以下具體的研究計畫類型：1)前瞻計畫、深耕計畫、主題研究計畫、關鍵突破種子計畫、關鍵突破研究計畫。</p></div></div></div></div><div class=\"panel panel-default\"><div class=\"panel-heading\"><h4 class=\"panel-title\"><a data-toggle=\"collapse\" data-parent=\"#accordion_oneLeft\" href=\"#collapseFiveLeft-11\" aria-expanded=\"false\" class=\"collapsed\">[第一、二類型計畫] 如何了解第一、二類型計畫的詳細資訊？</a></h4></div><div id=\"collapseFiveLeft-11\" class=\"panel-collapse collapse\" aria-expanded=\"false\" role=\"tablist\" style=\"height: 0px;\"><div class=\"panel-body\"><div class=\"text-accordion\"><p>您可以參考中研院的網頁https://sub.daais.sinica.edu.tw/grants/index.html，詳細了解第一、二類型計畫的資訊。</p></div></div></div></div><div class=\"panel panel-default\"><div class=\"panel-heading\"><h4 class=\"panel-title\"><a data-toggle=\"collapse\" data-parent=\"#accordion_oneLeft\" href=\"#collapseFiveLeft-12\" aria-expanded=\"false\" class=\"collapsed\">[第一、二類型計畫] 如何申請第一、二類型計畫的經費？</a></h4></div><div id=\"collapseFiveLeft-12\" class=\"panel-collapse collapse\" aria-expanded=\"false\" role=\"tablist\" style=\"height: 0px;\"><div class=\"panel-body\"><div class=\"text-accordion\"><p>中研院研究人員可主動向院方申請競爭型學術研究計畫經費之類型為第一、二類型計畫（前瞻計畫、深耕計畫、主題研究計畫，關鍵突破種子計畫與關鍵突破研究計畫）。如欲申請計畫經費，需登錄中研院學術服務管理系統https://asms.sinica.edu.tw/。</p></div></div></div></div><div class=\"panel panel-default\"><div class=\"panel-heading\"><h4 class=\"panel-title\"><a data-toggle=\"collapse\" data-parent=\"#accordion_oneLeft\" href=\"#collapseFiveLeft-13\" aria-expanded=\"false\" class=\"collapsed\">[審查] 中研院計畫的審查重點有哪些？ </a></h4></div><div id=\"collapseFiveLeft-13\" class=\"panel-collapse collapse\" aria-expanded=\"false\" role=\"tablist\" style=\"height: 0px;\"><div class=\"panel-body\"><div class=\"text-accordion\"><p>中研院計畫的審查重點包括是否解決重要關鍵問題、創新程度、預期影響程度及國際競爭力等。</p></div></div></div></div><div class=\"panel panel-default\"><div class=\"panel-heading\"><h4 class=\"panel-title\"><a data-toggle=\"collapse\" data-parent=\"#accordion_oneLeft\" href=\"#collapseFiveLeft-14\" aria-expanded=\"false\" class=\"collapsed\">[審查] 審查作業採用哪種階段模式？ </a></h4></div><div id=\"collapseFiveLeft-14\" class=\"panel-collapse collapse\" aria-expanded=\"false\" role=\"tablist\" style=\"height: 0px;\"><div class=\"panel-body\"><div class=\"text-accordion\"><p>審查作業採用三階段模式，即書面審查、複審和決審。其中特別提到第一、第二類型研究計畫自109年實施新制，採取同學組相同領域之各類計畫，並由複審委員會討論評比後進行決策。</p></div></div></div></div><div class=\"panel panel-default\"><div class=\"panel-heading\"><h4 class=\"panel-title\"><a data-toggle=\"collapse\" data-parent=\"#accordion_oneLeft\" href=\"#collapseFiveLeft-15\" aria-expanded=\"false\" class=\"collapsed\">[審查] 第一、第二類型研究計畫自109年實施新制後，採用什麼方式評比申請案？ </a></h4></div><div id=\"collapseFiveLeft-15\" class=\"panel-collapse collapse\" aria-expanded=\"false\" role=\"tablist\" style=\"height: 0px;\"><div class=\"panel-body\"><div class=\"text-accordion\"><p>第一、第二類型研究計畫自109年實施新制後，採取同學組相同領域之各類計畫，交由數理科學、生命科學、人文及社會科學三學組之複審委員會(Review Panel)討論評比，並輔以中研院觀點進行決策。</p></div></div></div></div><div class=\"panel panel-default\"><div class=\"panel-heading\"><h4 class=\"panel-title\"><a data-toggle=\"collapse\" data-parent=\"#accordion_oneLeft\" href=\"#collapseFiveLeft-16\" aria-expanded=\"false\" class=\"collapsed\">[審查] 複審委員會是由哪三學組組成的？ </a></h4></div><div id=\"collapseFiveLeft-16\" class=\"panel-collapse collapse\" aria-expanded=\"false\" role=\"tablist\" style=\"height: 0px;\"><div class=\"panel-body\"><div class=\"text-accordion\"><p>複審委員會是由數理科學、生命科學、人文及社會科學三學組組成的。</p></div></div></div></div><div class=\"panel panel-default\"><div class=\"panel-heading\"><h4 class=\"panel-title\"><a data-toggle=\"collapse\" data-parent=\"#accordion_oneLeft\" href=\"#collapseFiveLeft-17\" aria-expanded=\"false\" class=\"collapsed\">[審查] 中研院的決策是否考量各項申請案之水準高低或主題相近程度？</a></h4></div><div id=\"collapseFiveLeft-17\" class=\"panel-collapse collapse\" aria-expanded=\"false\" role=\"tablist\" style=\"height: 0px;\"><div class=\"panel-body\"><div class=\"text-accordion\"><p>是的，中研院的決策考量各項申請案之水準高低或主題相近程度。在審查作業中，採取同學組相同領域之各類計畫，交由數理科學、生命科學、人文及社會科學三學組之複審委員會(Review Panel)討論評比，並輔以中研院觀點進行決策，使經費補助更具公平與效益。</p></div></div></div></div><div class=\"panel panel-default\"><div class=\"panel-heading\"><h4 class=\"panel-title\"><a data-toggle=\"collapse\" data-parent=\"#accordion_oneLeft\" href=\"#collapseFiveLeft-18\" aria-expanded=\"false\" class=\"collapsed\">[執行] 中研院的執行計畫的經費配置是依據哪些條件進行的呢？</a></h4></div><div id=\"collapseFiveLeft-18\" class=\"panel-collapse collapse\" aria-expanded=\"false\" role=\"tablist\" style=\"height: 0px;\"><div class=\"panel-body\"><div class=\"text-accordion\"><p>中研院執行計畫的經費配置是依據不同計畫類型、個人型或團隊整合型、執行計畫之規模和深度、效益評估等條件，參考過往經驗及分析檢討後嚴謹規劃分配之，輔以計畫審議之相關實務研究成果並加以修正，並將持續辦理研究計畫之期中報告審查、執行期滿報告評鑑、計畫變更及經費管控等追蹤管考評核作業，對每件計畫設有滾動式調整補助金額的機制，期能達到最佳運作效益。</p></div></div></div></div></div></div></div></div><div class=\"card\"><div class=\"card-header\" id=\"heading-19\"><h5 class=\"mb-0\"><button class=\"btn btn-link collapsed\" data-toggle=\"collapse\" data-target=\"#collapse-19\" aria-expanded=\"false\" aria-controls=\"collapse-19\"><h2>學術處計畫申請案-第一、二類型計畫</h2></button></h5></div><div id=\"collapse-19\" class=\"collapse\" aria-labelledby=\"heading-19\" data-parent=\"#accordion\"><div class=\"card-body\"><div class=\"panel-group\" id=\"accordionFourLeft\"><div class=\"panel panel-default\"><div class=\"panel-heading\"><h4 class=\"panel-title\"><a data-toggle=\"collapse\" data-parent=\"#accordion_oneLeft\" href=\"#collapseFiveLeft-19\" aria-expanded=\"false\" class=\"collapsed\">[前瞻計畫] 中研院前瞻計畫的目的是什麼？ </a></h4></div><div id=\"collapseFiveLeft-19\" class=\"panel-collapse collapse\" aria-expanded=\"false\" role=\"tablist\" style=\"height: 0px;\"><div class=\"panel-body\"><div class=\"text-accordion\"><p>中研院前瞻計畫旨在延攬、拔擢研究成果優異並深具發展潛力的年輕學者，以進行具國際競爭力之前瞻性研究課題，期培植成為世界頂尖學術研究人才。</p></div></div></div></div><div class=\"panel panel-default\"><div class=\"panel-heading\"><h4 class=\"panel-title\"><a data-toggle=\"collapse\" data-parent=\"#accordion_oneLeft\" href=\"#collapseFiveLeft-20\" aria-expanded=\"false\" class=\"collapsed\">[前瞻計畫] 哪些人可以擔任前瞻計畫的被推薦人？ </a></h4></div><div id=\"collapseFiveLeft-20\" class=\"panel-collapse collapse\" aria-expanded=\"false\" role=\"tablist\" style=\"height: 0px;\"><div class=\"panel-body\"><div class=\"text-accordion\"><p>中研院的專任助研究員、新聘之非長聘助研究員，或中研院各研究所(處)、研究中心擬新聘之助研究員、非長聘副研究員，已進入中研院學組聘審程序者。</p></div></div></div></div><div class=\"panel panel-default\"><div class=\"panel-heading\"><h4 class=\"panel-title\"><a data-toggle=\"collapse\" data-parent=\"#accordion_oneLeft\" href=\"#collapseFiveLeft-21\" aria-expanded=\"false\" class=\"collapsed\">[前瞻計畫] 進行前瞻計畫需要準備哪些文件？ </a></h4></div><div id=\"collapseFiveLeft-21\" class=\"panel-collapse collapse\" aria-expanded=\"false\" role=\"tablist\" style=\"height: 0px;\"><div class=\"panel-body\"><div class=\"text-accordion\"><p>進行前瞻計畫需要準備以下文件：\n",
            "\n",
            "1)研究計畫書。\n",
            "2)個人履歷資料和近年主要著作目錄。\n",
            "3)推薦函及所務或中心業務會議紀錄。</p></div></div></div></div><div class=\"panel panel-default\"><div class=\"panel-heading\"><h4 class=\"panel-title\"><a data-toggle=\"collapse\" data-parent=\"#accordion_oneLeft\" href=\"#collapseFiveLeft-22\" aria-expanded=\"false\" class=\"collapsed\">[前瞻計畫] 前瞻計畫每年的申請時間是什麼時候？ </a></h4></div><div id=\"collapseFiveLeft-22\" class=\"panel-collapse collapse\" aria-expanded=\"false\" role=\"tablist\" style=\"height: 0px;\"><div class=\"panel-body\"><div class=\"text-accordion\"><p>前瞻計畫每年的申請時間在3-5月。</p></div></div></div></div><div class=\"panel panel-default\"><div class=\"panel-heading\"><h4 class=\"panel-title\"><a data-toggle=\"collapse\" data-parent=\"#accordion_oneLeft\" href=\"#collapseFiveLeft-23\" aria-expanded=\"false\" class=\"collapsed\">[前瞻計畫] 前瞻計畫的經費申請上限是多少？ </a></h4></div><div id=\"collapseFiveLeft-23\" class=\"panel-collapse collapse\" aria-expanded=\"false\" role=\"tablist\" style=\"height: 0px;\"><div class=\"panel-body\"><div class=\"text-accordion\"><p>經費申請額度的上限為新台幣500萬元。</p></div></div></div></div><div class=\"panel panel-default\"><div class=\"panel-heading\"><h4 class=\"panel-title\"><a data-toggle=\"collapse\" data-parent=\"#accordion_oneLeft\" href=\"#collapseFiveLeft-24\" aria-expanded=\"false\" class=\"collapsed\">[前瞻計畫] 如何申請前瞻計畫？</a></h4></div><div id=\"collapseFiveLeft-24\" class=\"panel-collapse collapse\" aria-expanded=\"false\" role=\"tablist\" style=\"height: 0px;\"><div class=\"panel-body\"><div class=\"text-accordion\"><p>申請前瞻計畫需要先提交意願書，再於每年的3-5月間向推薦單位提交計畫書等文件，經過審查後通過申請案。申請人必須是中研院的特定職位人員，經費申請上限為新台幣500萬元。有關詳細要求可參考中研院前瞻計畫作業要點以及官方網站。</p></div></div></div></div><div class=\"panel panel-default\"><div class=\"panel-heading\"><h4 class=\"panel-title\"><a data-toggle=\"collapse\" data-parent=\"#accordion_oneLeft\" href=\"#collapseFiveLeft-25\" aria-expanded=\"false\" class=\"collapsed\">[深耕計畫] 深耕計畫的目標是什麼？ </a></h4></div><div id=\"collapseFiveLeft-25\" class=\"panel-collapse collapse\" aria-expanded=\"false\" role=\"tablist\" style=\"height: 0px;\"><div class=\"panel-body\"><div class=\"text-accordion\"><p>深耕計畫的目標是拔擢並長期培育中研院傑出且具潛能之研究人員，使其長期致力於知識領域重要課題的原創性研究，以期日後在生命科學、數理科學、人文及社會科學等領域中重要課題研究上，有世界級水準之重要貢獻。</p></div></div></div></div><div class=\"panel panel-default\"><div class=\"panel-heading\"><h4 class=\"panel-title\"><a data-toggle=\"collapse\" data-parent=\"#accordion_oneLeft\" href=\"#collapseFiveLeft-26\" aria-expanded=\"false\" class=\"collapsed\">[深耕計畫] 誰可以擔任深耕計畫的計畫主持人？ </a></h4></div><div id=\"collapseFiveLeft-26\" class=\"panel-collapse collapse\" aria-expanded=\"false\" role=\"tablist\" style=\"height: 0px;\"><div class=\"panel-body\"><div class=\"text-accordion\"><p>中研院的專任副研究員以上之研究人員可以擔任深耕計畫的計畫主持人。</p></div></div></div></div><div class=\"panel panel-default\"><div class=\"panel-heading\"><h4 class=\"panel-title\"><a data-toggle=\"collapse\" data-parent=\"#accordion_oneLeft\" href=\"#collapseFiveLeft-27\" aria-expanded=\"false\" class=\"collapsed\">[深耕計畫] 深耕計畫是個人型或團隊型計畫？ </a></h4></div><div id=\"collapseFiveLeft-27\" class=\"panel-collapse collapse\" aria-expanded=\"false\" role=\"tablist\" style=\"height: 0px;\"><div class=\"panel-body\"><div class=\"text-accordion\"><p>深耕計畫是個人型計畫。</p></div></div></div></div><div class=\"panel panel-default\"><div class=\"panel-heading\"><h4 class=\"panel-title\"><a data-toggle=\"collapse\" data-parent=\"#accordion_oneLeft\" href=\"#collapseFiveLeft-28\" aria-expanded=\"false\" class=\"collapsed\">[深耕計畫] 申請深耕計畫需要提交哪些文件？ </a></h4></div><div id=\"collapseFiveLeft-28\" class=\"panel-collapse collapse\" aria-expanded=\"false\" role=\"tablist\" style=\"height: 0px;\"><div class=\"panel-body\"><div class=\"text-accordion\"><p>申請深耕計畫需要提交研究計畫書以及個人履歷資料和近年主要著作目錄。</p></div></div></div></div><div class=\"panel panel-default\"><div class=\"panel-heading\"><h4 class=\"panel-title\"><a data-toggle=\"collapse\" data-parent=\"#accordion_oneLeft\" href=\"#collapseFiveLeft-29\" aria-expanded=\"false\" class=\"collapsed\">[深耕計畫] 每年深耕計畫的申請時間是什麼時候？ </a></h4></div><div id=\"collapseFiveLeft-29\" class=\"panel-collapse collapse\" aria-expanded=\"false\" role=\"tablist\" style=\"height: 0px;\"><div class=\"panel-body\"><div class=\"text-accordion\"><p>每年深耕計畫的申請時間在3-5月，4月初先提交意願書，並於5月初提交計畫書。</p></div></div></div></div><div class=\"panel panel-default\"><div class=\"panel-heading\"><h4 class=\"panel-title\"><a data-toggle=\"collapse\" data-parent=\"#accordion_oneLeft\" href=\"#collapseFiveLeft-30\" aria-expanded=\"false\" class=\"collapsed\">[深耕計畫] 費用申請額度的上限是多少？ </a></h4></div><div id=\"collapseFiveLeft-30\" class=\"panel-collapse collapse\" aria-expanded=\"false\" role=\"tablist\" style=\"height: 0px;\"><div class=\"panel-body\"><div class=\"text-accordion\"><p>上限為新台幣500萬元。</p></div></div></div></div><div class=\"panel panel-default\"><div class=\"panel-heading\"><h4 class=\"panel-title\"><a data-toggle=\"collapse\" data-parent=\"#accordion_oneLeft\" href=\"#collapseFiveLeft-31\" aria-expanded=\"false\" class=\"collapsed\">[深耕計畫] 如何查詢更詳細的計畫資訊？ </a></h4></div><div id=\"collapseFiveLeft-31\" class=\"panel-collapse collapse\" aria-expanded=\"false\" role=\"tablist\" style=\"height: 0px;\"><div class=\"panel-body\"><div class=\"text-accordion\"><p>可以參閱https://sub.daais.sinica.edu.tw/grants/iva.html了解更詳細的計畫資訊。</p></div></div></div></div><div class=\"panel panel-default\"><div class=\"panel-heading\"><h4 class=\"panel-title\"><a data-toggle=\"collapse\" data-parent=\"#accordion_oneLeft\" href=\"#collapseFiveLeft-32\" aria-expanded=\"false\" class=\"collapsed\">[深耕計畫] 如何申請深耕計畫？</a></h4></div><div id=\"collapseFiveLeft-32\" class=\"panel-collapse collapse\" aria-expanded=\"false\" role=\"tablist\" style=\"height: 0px;\"><div class=\"panel-body\"><div class=\"text-accordion\"><p>深耕計畫採用申請制，申請應包括研究計畫書、個人履歷資料和近年主要著作目錄，計畫主持人必須是中研院的專任副研究員以上之研究人員。每年3-5月為申請時間，需先提交意願書再提交計畫書。申請案經過書面初審、複審和聯席決審會議後，通過審查的核定計畫將於次年1月開始執行。詳細申請作業要點可參考中研院網站的相關內容。</p></div></div></div></div><div class=\"panel panel-default\"><div class=\"panel-heading\"><h4 class=\"panel-title\"><a data-toggle=\"collapse\" data-parent=\"#accordion_oneLeft\" href=\"#collapseFiveLeft-33\" aria-expanded=\"false\" class=\"collapsed\">[主題研究計畫] 主題研究計畫的目的為何？ </a></h4></div><div id=\"collapseFiveLeft-33\" class=\"panel-collapse collapse\" aria-expanded=\"false\" role=\"tablist\" style=\"height: 0px;\"><div class=\"panel-body\"><div class=\"text-accordion\"><p>主題研究計畫旨為推動中研院研究專案計畫，在基礎研究領域作出世界級的重要貢獻。</p></div></div></div></div><div class=\"panel panel-default\"><div class=\"panel-heading\"><h4 class=\"panel-title\"><a data-toggle=\"collapse\" data-parent=\"#accordion_oneLeft\" href=\"#collapseFiveLeft-34\" aria-expanded=\"false\" class=\"collapsed\">[主題研究計畫] 誰可以擔任本計畫計畫(總)主持人？ </a></h4></div><div id=\"collapseFiveLeft-34\" class=\"panel-collapse collapse\" aria-expanded=\"false\" role=\"tablist\" style=\"height: 0px;\"><div class=\"panel-body\"><div class=\"text-accordion\"><p>本計畫之計畫(總)主持人須為中研院專任研究人員。</p></div></div></div></div><div class=\"panel panel-default\"><div class=\"panel-heading\"><h4 class=\"panel-title\"><a data-toggle=\"collapse\" data-parent=\"#accordion_oneLeft\" href=\"#collapseFiveLeft-35\" aria-expanded=\"false\" class=\"collapsed\">[主題研究計畫] 本計畫期限為多久？有哪兩種類型？ </a></h4></div><div id=\"collapseFiveLeft-35\" class=\"panel-collapse collapse\" aria-expanded=\"false\" role=\"tablist\" style=\"height: 0px;\"><div class=\"panel-body\"><div class=\"text-accordion\"><p>本計畫期限為三年。本計畫有兩種類型，分別為個人型研究計畫和單一整合型研究計畫。</p></div></div></div></div><div class=\"panel panel-default\"><div class=\"panel-heading\"><h4 class=\"panel-title\"><a data-toggle=\"collapse\" data-parent=\"#accordion_oneLeft\" href=\"#collapseFiveLeft-36\" aria-expanded=\"false\" class=\"collapsed\">[主題研究計畫] 本計畫申請需包含哪些文件？ </a></h4></div><div id=\"collapseFiveLeft-36\" class=\"panel-collapse collapse\" aria-expanded=\"false\" role=\"tablist\" style=\"height: 0px;\"><div class=\"panel-body\"><div class=\"text-accordion\"><p>本計畫申請需包含研究計畫書和個人履歷資料及近年主要著作目錄。</p></div></div></div></div><div class=\"panel panel-default\"><div class=\"panel-heading\"><h4 class=\"panel-title\"><a data-toggle=\"collapse\" data-parent=\"#accordion_oneLeft\" href=\"#collapseFiveLeft-37\" aria-expanded=\"false\" class=\"collapsed\">[主題研究計畫] 本計畫申請時間為何？ </a></h4></div><div id=\"collapseFiveLeft-37\" class=\"panel-collapse collapse\" aria-expanded=\"false\" role=\"tablist\" style=\"height: 0px;\"><div class=\"panel-body\"><div class=\"text-accordion\"><p>本計畫每年之申請時間在3-5月，4月初先提交意願書，並於5月初提交計畫書。</p></div></div></div></div><div class=\"panel panel-default\"><div class=\"panel-heading\"><h4 class=\"panel-title\"><a data-toggle=\"collapse\" data-parent=\"#accordion_oneLeft\" href=\"#collapseFiveLeft-38\" aria-expanded=\"false\" class=\"collapsed\">[主題研究計畫] 審查通過的計畫將於何時開始執行？ </a></h4></div><div id=\"collapseFiveLeft-38\" class=\"panel-collapse collapse\" aria-expanded=\"false\" role=\"tablist\" style=\"height: 0px;\"><div class=\"panel-body\"><div class=\"text-accordion\"><p>審查通過的計畫將於次年1月開始執行。</p></div></div></div></div><div class=\"panel panel-default\"><div class=\"panel-heading\"><h4 class=\"panel-title\"><a data-toggle=\"collapse\" data-parent=\"#accordion_oneLeft\" href=\"#collapseFiveLeft-39\" aria-expanded=\"false\" class=\"collapsed\">[主題研究計畫] 個人型研究計畫經費申請額度上限為多少？ </a></h4></div><div id=\"collapseFiveLeft-39\" class=\"panel-collapse collapse\" aria-expanded=\"false\" role=\"tablist\" style=\"height: 0px;\"><div class=\"panel-body\"><div class=\"text-accordion\"><p>個人型研究計畫經費申請額度上限為新台幣500萬元。</p></div></div></div></div><div class=\"panel panel-default\"><div class=\"panel-heading\"><h4 class=\"panel-title\"><a data-toggle=\"collapse\" data-parent=\"#accordion_oneLeft\" href=\"#collapseFiveLeft-40\" aria-expanded=\"false\" class=\"collapsed\">[主題研究計畫] 單一整合型研究計畫經費申請額度上限為多少？ </a></h4></div><div id=\"collapseFiveLeft-40\" class=\"panel-collapse collapse\" aria-expanded=\"false\" role=\"tablist\" style=\"height: 0px;\"><div class=\"panel-body\"><div class=\"text-accordion\"><p>單一整合型研究計畫經費申請額度上限為新台幣800萬元。</p></div></div></div></div><div class=\"panel panel-default\"><div class=\"panel-heading\"><h4 class=\"panel-title\"><a data-toggle=\"collapse\" data-parent=\"#accordion_oneLeft\" href=\"#collapseFiveLeft-41\" aria-expanded=\"false\" class=\"collapsed\">[主題研究計畫] 如何得到更詳細的計畫說明？ </a></h4></div><div id=\"collapseFiveLeft-41\" class=\"panel-collapse collapse\" aria-expanded=\"false\" role=\"tablist\" style=\"height: 0px;\"><div class=\"panel-body\"><div class=\"text-accordion\"><p>可以參閱https://sub.daais.sinica.edu.tw/grants/tp.html網站，或登錄中研院學術服務管理系統https://sams.sinica.edu.tw/，了解更詳細的計畫說明。</p></div></div></div></div><div class=\"panel panel-default\"><div class=\"panel-heading\"><h4 class=\"panel-title\"><a data-toggle=\"collapse\" data-parent=\"#accordion_oneLeft\" href=\"#collapseFiveLeft-42\" aria-expanded=\"false\" class=\"collapsed\">[主題研究計畫] . 如何申請本計畫？</a></h4></div><div id=\"collapseFiveLeft-42\" class=\"panel-collapse collapse\" aria-expanded=\"false\" role=\"tablist\" style=\"height: 0px;\"><div class=\"panel-body\"><div class=\"text-accordion\"><p>申請者需於每年的3-5月間提交意願書並在5月初提交計畫書，申請文件需包含研究計畫書、個人履歷資料及近年主要著作目錄。申請人須為中研院專任研究人員，可透過中研院學術服務管理系統進行申請。</p></div></div></div></div><div class=\"panel panel-default\"><div class=\"panel-heading\"><h4 class=\"panel-title\"><a data-toggle=\"collapse\" data-parent=\"#accordion_oneLeft\" href=\"#collapseFiveLeft-43\" aria-expanded=\"false\" class=\"collapsed\">[關鍵突破種子計畫] 中央研究院關鍵突破計畫是針對什麼目的而提出的計畫？</a></h4></div><div id=\"collapseFiveLeft-43\" class=\"panel-collapse collapse\" aria-expanded=\"false\" role=\"tablist\" style=\"height: 0px;\"><div class=\"panel-body\"><div class=\"text-accordion\"><p>中央研究院關鍵突破計畫是針對提升中研院基礎研究，鼓勵研究人員著眼於社會及學術上亟待克服之挑戰，剖析現有限制，發掘關鍵問題之所在，進而提出具突破性的解決策略，達成「成就全球頂尖研究」之目標而提出的計畫。</p></div></div></div></div><div class=\"panel panel-default\"><div class=\"panel-heading\"><h4 class=\"panel-title\"><a data-toggle=\"collapse\" data-parent=\"#accordion_oneLeft\" href=\"#collapseFiveLeft-44\" aria-expanded=\"false\" class=\"collapsed\">[關鍵突破種子計畫] 關鍵突破計畫有哪些不同的計畫期程和規模？</a></h4></div><div id=\"collapseFiveLeft-44\" class=\"panel-collapse collapse\" aria-expanded=\"false\" role=\"tablist\" style=\"height: 0px;\"><div class=\"panel-body\"><div class=\"text-accordion\"><p>關鍵突破計畫有以下不同的計畫期程和規模：\n",
            "- 關鍵突破種子計畫(Seed Project)：計畫為期1至2年，適用於概念尚在萌芽階段，但具有原創性和發展潛力的研究計畫。\n",
            "- 關鍵突破研究計畫：計畫期限原則上為5年，適用於已有較具體概念、相對成熟的研究計畫。\n",
            "- 計畫根據規模分為以下3類：個人型研究計畫、單一整合型研究計畫、所、中心問題導向型團隊研究計畫。</p></div></div></div></div><div class=\"panel panel-default\"><div class=\"panel-heading\"><h4 class=\"panel-title\"><a data-toggle=\"collapse\" data-parent=\"#accordion_oneLeft\" href=\"#collapseFiveLeft-45\" aria-expanded=\"false\" class=\"collapsed\">[關鍵突破種子計畫] 關鍵突破計畫的申請過程包括哪些文件以及申請的時間？</a></h4></div><div id=\"collapseFiveLeft-45\" class=\"panel-collapse collapse\" aria-expanded=\"false\" role=\"tablist\" style=\"height: 0px;\"><div class=\"panel-body\"><div class=\"text-accordion\"><p>申請過程包括研究計畫書、個人履歷資料和近年主要著作目錄。申請時間每年分兩梯次，第一梯次申請時間在1-3月，第二梯次申請在7-9月。</p></div></div></div></div><div class=\"panel panel-default\"><div class=\"panel-heading\"><h4 class=\"panel-title\"><a data-toggle=\"collapse\" data-parent=\"#accordion_oneLeft\" href=\"#collapseFiveLeft-46\" aria-expanded=\"false\" class=\"collapsed\">[關鍵突破種子計畫] 關鍵突破計畫的經費申請額度上限是多少？</a></h4></div><div id=\"collapseFiveLeft-46\" class=\"panel-collapse collapse\" aria-expanded=\"false\" role=\"tablist\" style=\"height: 0px;\"><div class=\"panel-body\"><div class=\"text-accordion\"><p>關鍵突破計畫的經費申請額度上限為新台幣2,000萬元。</p></div></div></div></div><div class=\"panel panel-default\"><div class=\"panel-heading\"><h4 class=\"panel-title\"><a data-toggle=\"collapse\" data-parent=\"#accordion_oneLeft\" href=\"#collapseFiveLeft-47\" aria-expanded=\"false\" class=\"collapsed\">[關鍵突破種子計畫] 如何申請關鍵突破計畫？</a></h4></div><div id=\"collapseFiveLeft-47\" class=\"panel-collapse collapse\" aria-expanded=\"false\" role=\"tablist\" style=\"height: 0px;\"><div class=\"panel-body\"><div class=\"text-accordion\"><p>申請關鍵突破計畫需遵循「中央研究院關鍵突破計畫作業要點」，計畫主持人必須是中研院的專任研究人員。申請包括研究計畫書、個人履歷資料和近年主要著作目錄，每年分兩梯次申請，經過書面初審、委員會複審及三學組聯席決審會議後，通過審查之核定計畫將於7月或次年1月開始執行。申請經費申請額度上限為新台幣2,000萬元。詳細申請方式請參閱https://sub.daais.sinica.edu.tw/grants/gcs.html。</p></div></div></div></div><div class=\"panel panel-default\"><div class=\"panel-heading\"><h4 class=\"panel-title\"><a data-toggle=\"collapse\" data-parent=\"#accordion_oneLeft\" href=\"#collapseFiveLeft-48\" aria-expanded=\"false\" class=\"collapsed\">[關鍵突破研究計畫] 什麼是關鍵突破研究計畫？</a></h4></div><div id=\"collapseFiveLeft-48\" class=\"panel-collapse collapse\" aria-expanded=\"false\" role=\"tablist\" style=\"height: 0px;\"><div class=\"panel-body\"><div class=\"text-accordion\"><p>關鍵突破研究計畫是為提升中研院基礎研究、達成成就全球頂尖研究目標而提出的一種申請制度，在申請計畫時必須找到社會及學術上亟待克服之挑戰，剖析現有限制，發掘關鍵問題之所在，進而提出具突破性的解決策略。計畫期限原則上為5年，適用於已有較具體概念、相對成熟的研究計畫。</p></div></div></div></div><div class=\"panel panel-default\"><div class=\"panel-heading\"><h4 class=\"panel-title\"><a data-toggle=\"collapse\" data-parent=\"#accordion_oneLeft\" href=\"#collapseFiveLeft-49\" aria-expanded=\"false\" class=\"collapsed\">[關鍵突破研究計畫] 關鍵突破計畫是如何申請的？</a></h4></div><div id=\"collapseFiveLeft-49\" class=\"panel-collapse collapse\" aria-expanded=\"false\" role=\"tablist\" style=\"height: 0px;\"><div class=\"panel-body\"><div class=\"text-accordion\"><p>關鍵突破計畫採用申請制，申請人必須是中研院的專任研究人員。根據計畫期程和階段，分為關鍵突破種子計畫和關鍵突破研究計畫，根據計畫規模分為個人型研究計畫、單一整合型研究計畫、所、中心問題導向型團隊研究計畫。申請時需提交研究計畫書和個人履歷資料及著作目錄，每年申請時間在3-5月，11月公告通過審核申請案，通過審查的核定計畫將於次年1月開始執行。經費申請額度上限為新台幣2,000萬元。詳細申請內容請參考「中央研究院關鍵突破計畫作業要點」。</p></div></div></div></div><div class=\"panel panel-default\"><div class=\"panel-heading\"><h4 class=\"panel-title\"><a data-toggle=\"collapse\" data-parent=\"#accordion_oneLeft\" href=\"#collapseFiveLeft-50\" aria-expanded=\"false\" class=\"collapsed\">[關鍵突破研究計畫] 誰可以擔任關鍵突破計畫的計畫主持人？</a></h4></div><div id=\"collapseFiveLeft-50\" class=\"panel-collapse collapse\" aria-expanded=\"false\" role=\"tablist\" style=\"height: 0px;\"><div class=\"panel-body\"><div class=\"text-accordion\"><p>中研院的專任研究人員。</p></div></div></div></div><div class=\"panel panel-default\"><div class=\"panel-heading\"><h4 class=\"panel-title\"><a data-toggle=\"collapse\" data-parent=\"#accordion_oneLeft\" href=\"#collapseFiveLeft-51\" aria-expanded=\"false\" class=\"collapsed\">[關鍵突破研究計畫] 關鍵突破計畫有哪些期限和類型？</a></h4></div><div id=\"collapseFiveLeft-51\" class=\"panel-collapse collapse\" aria-expanded=\"false\" role=\"tablist\" style=\"height: 0px;\"><div class=\"panel-body\"><div class=\"text-accordion\"><p>根據文中所述，關鍵突破計畫根據期限和階段分為以下兩種：1)關鍵突破種子計畫(Seed Project)：計畫為期1至2年；2)關鍵突破研究計畫：計畫期限原則上為5年。根據計畫規模分為以下3類：1)個人型研究計畫；2)單一整合型研究計畫；3)所、中心問題導向型團隊研究計畫。</p></div></div></div></div><div class=\"panel panel-default\"><div class=\"panel-heading\"><h4 class=\"panel-title\"><a data-toggle=\"collapse\" data-parent=\"#accordion_oneLeft\" href=\"#collapseFiveLeft-52\" aria-expanded=\"false\" class=\"collapsed\">[關鍵突破研究計畫] 關鍵突破計畫申請需要提供哪些文件？</a></h4></div><div id=\"collapseFiveLeft-52\" class=\"panel-collapse collapse\" aria-expanded=\"false\" role=\"tablist\" style=\"height: 0px;\"><div class=\"panel-body\"><div class=\"text-accordion\"><p>1)研究計畫書。\n",
            "2)個人履歷資料和近年主要著作目錄。</p></div></div></div></div><div class=\"panel panel-default\"><div class=\"panel-heading\"><h4 class=\"panel-title\"><a data-toggle=\"collapse\" data-parent=\"#accordion_oneLeft\" href=\"#collapseFiveLeft-53\" aria-expanded=\"false\" class=\"collapsed\">[關鍵突破研究計畫] 關鍵突破計畫的申請時間是什麼時候？</a></h4></div><div id=\"collapseFiveLeft-53\" class=\"panel-collapse collapse\" aria-expanded=\"false\" role=\"tablist\" style=\"height: 0px;\"><div class=\"panel-body\"><div class=\"text-accordion\"><p>關鍵突破計畫的申請時間是每年的3-5月，4月初先提交意願書，並於5月初提交計畫書。</p></div></div></div></div><div class=\"panel panel-default\"><div class=\"panel-heading\"><h4 class=\"panel-title\"><a data-toggle=\"collapse\" data-parent=\"#accordion_oneLeft\" href=\"#collapseFiveLeft-54\" aria-expanded=\"false\" class=\"collapsed\">[關鍵突破研究計畫] 關鍵突破計畫的經費申請額度是多少？</a></h4></div><div id=\"collapseFiveLeft-54\" class=\"panel-collapse collapse\" aria-expanded=\"false\" role=\"tablist\" style=\"height: 0px;\"><div class=\"panel-body\"><div class=\"text-accordion\"><p>經費申請額度上限為新台幣2,000萬元。</p></div></div></div></div><div class=\"panel panel-default\"><div class=\"panel-heading\"><h4 class=\"panel-title\"><a data-toggle=\"collapse\" data-parent=\"#accordion_oneLeft\" href=\"#collapseFiveLeft-55\" aria-expanded=\"false\" class=\"collapsed\">[關鍵突破研究計畫] 如何瞭解更多關鍵突破計畫的詳細說明？如何申請計畫？</a></h4></div><div id=\"collapseFiveLeft-55\" class=\"panel-collapse collapse\" aria-expanded=\"false\" role=\"tablist\" style=\"height: 0px;\"><div class=\"panel-body\"><div class=\"text-accordion\"><p>想要瞭解更多關鍵突破計畫的詳細說明，可以參閱中研院的網頁https://sub.daais.sinica.edu.tw/grants/gcp.html。而要申請計畫，則需要登錄中研院學術服務管理系統https://asms.sinica.edu.tw/，在每年的3-5月間先提交意願書，再於5月初提交計畫書，經過初審、複審及聯席決審後獲得核定計畫並獲得經費。</p></div></div></div></div></div></div></div></div><div class=\"card\"><div class=\"card-header\" id=\"heading-56\"><h5 class=\"mb-0\"><button class=\"btn btn-link collapsed\" data-toggle=\"collapse\" data-target=\"#collapse-56\" aria-expanded=\"false\" aria-controls=\"collapse-56\"><h2>學術處計畫申請案-第三類型計畫</h2></button></h5></div><div id=\"collapse-56\" class=\"collapse\" aria-labelledby=\"heading-56\" data-parent=\"#accordion\"><div class=\"card-body\"><div class=\"panel-group\" id=\"accordionFourLeft\"><div class=\"panel panel-default\"><div class=\"panel-heading\"><h4 class=\"panel-title\"><a data-toggle=\"collapse\" data-parent=\"#accordion_oneLeft\" href=\"#collapseFiveLeft-56\" aria-expanded=\"false\" class=\"collapsed\">[永續科學研究計畫] 永續科學研究計畫的總期限是多久？ </a></h4></div><div id=\"collapseFiveLeft-56\" class=\"panel-collapse collapse\" aria-expanded=\"false\" role=\"tablist\" style=\"height: 0px;\"><div class=\"panel-body\"><div class=\"text-accordion\"><p>永續科學研究計畫的總期限沒有明確提到。只有指出重點計畫的執行期為三年，而每年會定期徵求重點計畫。單一整合型計畫和任務導向整合型計畫因執行主題及合作規模各異，並沒有明確訂定總期限。</p></div></div></div></div><div class=\"panel panel-default\"><div class=\"panel-heading\"><h4 class=\"panel-title\"><a data-toggle=\"collapse\" data-parent=\"#accordion_oneLeft\" href=\"#collapseFiveLeft-57\" aria-expanded=\"false\" class=\"collapsed\">[永續科學研究計畫] 計畫徵求主題的期限是什麼時候？ </a></h4></div><div id=\"collapseFiveLeft-57\" class=\"panel-collapse collapse\" aria-expanded=\"false\" role=\"tablist\" style=\"height: 0px;\"><div class=\"panel-body\"><div class=\"text-accordion\"><p>計畫徵求主題的期限是每年的6月底。</p></div></div></div></div><div class=\"panel panel-default\"><div class=\"panel-heading\"><h4 class=\"panel-title\"><a data-toggle=\"collapse\" data-parent=\"#accordion_oneLeft\" href=\"#collapseFiveLeft-58\" aria-expanded=\"false\" class=\"collapsed\">[永續科學研究計畫] 計畫總經費的上限是多少？ </a></h4></div><div id=\"collapseFiveLeft-58\" class=\"panel-collapse collapse\" aria-expanded=\"false\" role=\"tablist\" style=\"height: 0px;\"><div class=\"panel-body\"><div class=\"text-accordion\"><p>計畫總經費以不超過2,000萬為原則。</p></div></div></div></div><div class=\"panel panel-default\"><div class=\"panel-heading\"><h4 class=\"panel-title\"><a data-toggle=\"collapse\" data-parent=\"#accordion_oneLeft\" href=\"#collapseFiveLeft-59\" aria-expanded=\"false\" class=\"collapsed\">[永續科學研究計畫] 計畫經費的核定方式是什麼？ </a></h4></div><div id=\"collapseFiveLeft-59\" class=\"panel-collapse collapse\" aria-expanded=\"false\" role=\"tablist\" style=\"height: 0px;\"><div class=\"panel-body\"><div class=\"text-accordion\"><p>計畫經費的核定方式是依審查會議共識，核定合理之執行經費。計畫總經費以不超過2,000萬為原則，但沒有明確訂定經費申請額度上限。</p></div></div></div></div><div class=\"panel panel-default\"><div class=\"panel-heading\"><h4 class=\"panel-title\"><a data-toggle=\"collapse\" data-parent=\"#accordion_oneLeft\" href=\"#collapseFiveLeft-60\" aria-expanded=\"false\" class=\"collapsed\">[永續科學研究計畫] 有哪些方向是永續研究推動項目？ </a></h4></div><div id=\"collapseFiveLeft-60\" class=\"panel-collapse collapse\" aria-expanded=\"false\" role=\"tablist\" style=\"height: 0px;\"><div class=\"panel-body\"><div class=\"text-accordion\"><p>永續研究推動項目有六個方向，分別為：1. 能源與減碳科技、2. 糧食、空氣、水資源之保衛與安全、3. 邁向永續社會之轉型、4. 健康福祉與環境變遷、5. 全球變遷下的地球系統、6. 災害預防、降低及復原。</p></div></div></div></div><div class=\"panel panel-default\"><div class=\"panel-heading\"><h4 class=\"panel-title\"><a data-toggle=\"collapse\" data-parent=\"#accordion_oneLeft\" href=\"#collapseFiveLeft-61\" aria-expanded=\"false\" class=\"collapsed\">[永續科學研究計畫] 永續科學研究計畫如何執行及合作？</a></h4></div><div id=\"collapseFiveLeft-61\" class=\"panel-collapse collapse\" aria-expanded=\"false\" role=\"tablist\" style=\"height: 0px;\"><div class=\"panel-body\"><div class=\"text-accordion\"><p>永續科學研究計畫以中研院研究人員為團隊核心，再邀請院外學者加入團隊共同研究，研究成果期能作為政府擬定政策之參考。計畫是任務導向整合型(分支計畫數2-5)及單一整合型計畫，定期徵求計畫及院方依需求不定期推動主動規劃。每年4月下旬辦理計畫說明會、公布年度徵求主題，6月底截止計畫書收件，11月公告通過審核申請案，並於次年1月1日起執行。計畫以解決關鍵永續問題為導向，強調跨領域科學整合之實踐。计畫總經費以不超過2,000萬為原則，核可計畫依審查會議共識，核定合理之執行經費。</p></div></div></div></div><div class=\"panel panel-default\"><div class=\"panel-heading\"><h4 class=\"panel-title\"><a data-toggle=\"collapse\" data-parent=\"#accordion_oneLeft\" href=\"#collapseFiveLeft-62\" aria-expanded=\"false\" class=\"collapsed\">[任務導向生技研究計畫] 此服務項目的主要目標是什麼？</a></h4></div><div id=\"collapseFiveLeft-62\" class=\"panel-collapse collapse\" aria-expanded=\"false\" role=\"tablist\" style=\"height: 0px;\"><div class=\"panel-body\"><div class=\"text-accordion\"><p>此服務項目的主要目標為鼓勵具小分子藥物、抗體藥物、核酸藥物、奈米藥物、細胞治療及醫材研發經驗之團隊進行轉譯醫學研究，促進基礎研究成果活用至六大生醫領域，包括精準醫學/癌症治療、感染性疾病、神經退化性疾病、代謝疾病、創新醫療應用和創新檢測技術，開發符合臨床需求之生技新藥產品，提升我國新藥開發之國際競爭力。</p></div></div></div></div><div class=\"panel panel-default\"><div class=\"panel-heading\"><h4 class=\"panel-title\"><a data-toggle=\"collapse\" data-parent=\"#accordion_oneLeft\" href=\"#collapseFiveLeft-63\" aria-expanded=\"false\" class=\"collapsed\">[任務導向生技研究計畫] 這個計畫的六大生醫領域包括哪些？</a></h4></div><div id=\"collapseFiveLeft-63\" class=\"panel-collapse collapse\" aria-expanded=\"false\" role=\"tablist\" style=\"height: 0px;\"><div class=\"panel-body\"><div class=\"text-accordion\"><p>這個計畫的六大生醫領域包括精準醫學/癌症治療、感染性疾病、神經退化性疾病、代謝疾病、創新醫療應用和創新檢測技術。</p></div></div></div></div><div class=\"panel panel-default\"><div class=\"panel-heading\"><h4 class=\"panel-title\"><a data-toggle=\"collapse\" data-parent=\"#accordion_oneLeft\" href=\"#collapseFiveLeft-64\" aria-expanded=\"false\" class=\"collapsed\">[任務導向生技研究計畫] 透過任務導向生技研究計畫，希望達成什麼目標？</a></h4></div><div id=\"collapseFiveLeft-64\" class=\"panel-collapse collapse\" aria-expanded=\"false\" role=\"tablist\" style=\"height: 0px;\"><div class=\"panel-body\"><div class=\"text-accordion\"><p>透過任務導向生技研究計畫，希望鼓勵具小分子藥物、抗體藥物、核酸藥物、奈米藥物、細胞治療及醫材研發經驗之團隊進行轉譯醫學研究，促進基礎研究成果活用至六大生醫領域，開發符合臨床需求之生技新藥產品，提升我國新藥開發之國際競爭力。本計畫為產品導向的研究計畫，主要目標是在3-5年內將研發成果發展成具有商業價值的產品技術，以利後續銜接至產業界開發。</p></div></div></div></div><div class=\"panel panel-default\"><div class=\"panel-heading\"><h4 class=\"panel-title\"><a data-toggle=\"collapse\" data-parent=\"#accordion_oneLeft\" href=\"#collapseFiveLeft-65\" aria-expanded=\"false\" class=\"collapsed\">[任務導向生技研究計畫] 這個計畫的申請時間是在哪個時候？</a></h4></div><div id=\"collapseFiveLeft-65\" class=\"panel-collapse collapse\" aria-expanded=\"false\" role=\"tablist\" style=\"height: 0px;\"><div class=\"panel-body\"><div class=\"text-accordion\"><p>本計畫每年之申請時間在4-7月，5月中旬先提交意願書，並於7月中旬提交計畫書。</p></div></div></div></div><div class=\"panel panel-default\"><div class=\"panel-heading\"><h4 class=\"panel-title\"><a data-toggle=\"collapse\" data-parent=\"#accordion_oneLeft\" href=\"#collapseFiveLeft-66\" aria-expanded=\"false\" class=\"collapsed\">[任務導向生技研究計畫] 經過審查通過的計畫將會在何時開始執行？</a></h4></div><div id=\"collapseFiveLeft-66\" class=\"panel-collapse collapse\" aria-expanded=\"false\" role=\"tablist\" style=\"height: 0px;\"><div class=\"panel-body\"><div class=\"text-accordion\"><p>經過審查通過的計畫將會在次年1月開始執行。</p></div></div></div></div><div class=\"panel panel-default\"><div class=\"panel-heading\"><h4 class=\"panel-title\"><a data-toggle=\"collapse\" data-parent=\"#accordion_oneLeft\" href=\"#collapseFiveLeft-67\" aria-expanded=\"false\" class=\"collapsed\">[因應流行病研究計畫] 流行病研究計畫的目的為何？</a></h4></div><div id=\"collapseFiveLeft-67\" class=\"panel-collapse collapse\" aria-expanded=\"false\" role=\"tablist\" style=\"height: 0px;\"><div class=\"panel-body\"><div class=\"text-accordion\"><p>流行病研究計畫的目的是集結院內傳染病研究量能，跨單位共同合作投入相關檢測技術、藥物、抗體、疫苗與致病機轉之研發，建立完整的流行病研究開發之環境，提升整體研究量能，以期完善感染性疾病防治所需的重要技術平台及關鍵性藥品資源庫，並提供新興傳染病研發所需的資源庫。</p></div></div></div></div><div class=\"panel panel-default\"><div class=\"panel-heading\"><h4 class=\"panel-title\"><a data-toggle=\"collapse\" data-parent=\"#accordion_oneLeft\" href=\"#collapseFiveLeft-68\" aria-expanded=\"false\" class=\"collapsed\">[因應流行病研究計畫] 本計畫提供了哪些相關資源，以建立完整流行病研究開發之環境？</a></h4></div><div id=\"collapseFiveLeft-68\" class=\"panel-collapse collapse\" aria-expanded=\"false\" role=\"tablist\" style=\"height: 0px;\"><div class=\"panel-body\"><div class=\"text-accordion\"><p>本計畫提供了跨領域實驗室支援，包括分子結構學、抗體研發、動物模式與P3實驗室等相關資源，以建立完整流行病研究開發之環境。</p></div></div></div></div><div class=\"panel panel-default\"><div class=\"panel-heading\"><h4 class=\"panel-title\"><a data-toggle=\"collapse\" data-parent=\"#accordion_oneLeft\" href=\"#collapseFiveLeft-69\" aria-expanded=\"false\" class=\"collapsed\">[因應流行病研究計畫] 本計畫期待在何種情況下發揮作用？</a></h4></div><div id=\"collapseFiveLeft-69\" class=\"panel-collapse collapse\" aria-expanded=\"false\" role=\"tablist\" style=\"height: 0px;\"><div class=\"panel-body\"><div class=\"text-accordion\"><p>本計畫期待在國家面臨新興傳染病爆發時，能以最高效率於最短時間內研發出快篩試劑之原型、抗體藥物、病毒分析藥物及疫苗，快速提供給產業進行臨床(前)確效驗證後進行商品化，成為國家重要的新興傳染病防治資源庫。</p></div></div></div></div><div class=\"panel panel-default\"><div class=\"panel-heading\"><h4 class=\"panel-title\"><a data-toggle=\"collapse\" data-parent=\"#accordion_oneLeft\" href=\"#collapseFiveLeft-70\" aria-expanded=\"false\" class=\"collapsed\">[因應流行病研究計畫] 本計畫的申請時間、申請程序以及核定計畫的執行時間和經費額度分別是什麼？</a></h4></div><div id=\"collapseFiveLeft-70\" class=\"panel-collapse collapse\" aria-expanded=\"false\" role=\"tablist\" style=\"height: 0px;\"><div class=\"panel-body\"><div class=\"text-accordion\"><p>本計畫的申請時間是每年的4-7月，申請程序包括先提交意願書，然後在7月中旬提交計畫書；經過國內外學者專家之書面初審、委員會複審及聯席決審會議後，11月公告通過審核申請案。核定計畫的執行時間是4年，並且每年的經費額度以新臺幣2000萬元為上限。</p></div></div></div></div><div class=\"panel panel-default\"><div class=\"panel-heading\"><h4 class=\"panel-title\"><a data-toggle=\"collapse\" data-parent=\"#accordion_oneLeft\" href=\"#collapseFiveLeft-71\" aria-expanded=\"false\" class=\"collapsed\">[因應流行病研究計畫] 該計畫執行的重要性和長期性如何體現？</a></h4></div><div id=\"collapseFiveLeft-71\" class=\"panel-collapse collapse\" aria-expanded=\"false\" role=\"tablist\" style=\"height: 0px;\"><div class=\"panel-body\"><div class=\"text-accordion\"><p>該計畫執行的重要性體現在其提供了完整的流行病研究開發環境，建立了感染性疾病防治所需的重要技術平台及關鍵性藥品資源庫，並能快速研發出快篩試劑原型、抗體藥物、分子藥物及疫苗等，以提升國家應對新興傳染病的效率。而其長期性體現在其每年的申請時間都在4-7月，且經過多重的審核程序後才能通過核定並開始執行。此外，該計畫定期保存所建立的關鍵技術平台、物樣品/材料、細胞/動物模式、實驗作業流程及資料等，作為國家長期的新興傳染病防治資源庫。</p></div></div></div></div><div class=\"panel panel-default\"><div class=\"panel-heading\"><h4 class=\"panel-title\"><a data-toggle=\"collapse\" data-parent=\"#accordion_oneLeft\" href=\"#collapseFiveLeft-72\" aria-expanded=\"false\" class=\"collapsed\">[材料與分析科技探索計畫(iMATE)] iMATE是什麼機構或組織提供的服務項目？</a></h4></div><div id=\"collapseFiveLeft-72\" class=\"panel-collapse collapse\" aria-expanded=\"false\" role=\"tablist\" style=\"height: 0px;\"><div class=\"panel-body\"><div class=\"text-accordion\"><p>iMATE是中研院分子科學與工程研究中心提供的服務項目。</p></div></div></div></div><div class=\"panel panel-default\"><div class=\"panel-heading\"><h4 class=\"panel-title\"><a data-toggle=\"collapse\" data-parent=\"#accordion_oneLeft\" href=\"#collapseFiveLeft-73\" aria-expanded=\"false\" class=\"collapsed\">[材料與分析科技探索計畫(iMATE)] iMATE的主要目的是什麼？是為了什麼目標或宗旨而設立的？</a></h4></div><div id=\"collapseFiveLeft-73\" class=\"panel-collapse collapse\" aria-expanded=\"false\" role=\"tablist\" style=\"height: 0px;\"><div class=\"panel-body\"><div class=\"text-accordion\"><p>iMATE的主要目的是厚植國家科研競爭發展力，跨領域共同探索具有關鍵特質的新穎材料與關鍵功能的分析科技，為國家搶先引領國際之研究先機。它的設立宗旨為引領國家科技發展，探索新穎材料和分析科技，提升國家在國際科研競爭中的地位。</p></div></div></div></div><div class=\"panel panel-default\"><div class=\"panel-heading\"><h4 class=\"panel-title\"><a data-toggle=\"collapse\" data-parent=\"#accordion_oneLeft\" href=\"#collapseFiveLeft-74\" aria-expanded=\"false\" class=\"collapsed\">[材料與分析科技探索計畫(iMATE)] iMATE提供的服務內容有哪些？可以提供具體的例子嗎？</a></h4></div><div id=\"collapseFiveLeft-74\" class=\"panel-collapse collapse\" aria-expanded=\"false\" role=\"tablist\" style=\"height: 0px;\"><div class=\"panel-body\"><div class=\"text-accordion\"><p>iMATE提供的服務內容包括新穎材料的設計、合成、製程與特性研究，以及關鍵功能的分析與測量等。其中具體的例子包括：使用先進製造技術製備氧化鋅奈米線陣列，探討其光學、電學、機械及熱傳導特性，研發新穎感測器應用；使用奈米顆粒製備新穎磁性材料，探討其磁性、光學及生醫應用等特性，研究新穎磁性粒子標記在癌細胞的應用等。</p></div></div></div></div><div class=\"panel panel-default\"><div class=\"panel-heading\"><h4 class=\"panel-title\"><a data-toggle=\"collapse\" data-parent=\"#accordion_oneLeft\" href=\"#collapseFiveLeft-75\" aria-expanded=\"false\" class=\"collapsed\">[材料與分析科技探索計畫(iMATE)] iMATE的服務對國家科研競爭發展力有什麼貢獻？</a></h4></div><div id=\"collapseFiveLeft-75\" class=\"panel-collapse collapse\" aria-expanded=\"false\" role=\"tablist\" style=\"height: 0px;\"><div class=\"panel-body\"><div class=\"text-accordion\"><p>iMATE的服務能夠厚植國家的科研競爭發展力，透過跨領域共同探索具有關鍵特質的新穎材料與關鍵功能的分析科技，引領國家搶先在國際的研究先機。</p></div></div></div></div><div class=\"panel panel-default\"><div class=\"panel-heading\"><h4 class=\"panel-title\"><a data-toggle=\"collapse\" data-parent=\"#accordion_oneLeft\" href=\"#collapseFiveLeft-76\" aria-expanded=\"false\" class=\"collapsed\">[材料與分析科技探索計畫(iMATE)] iMATE如何跨領域共同探索新穎材料和分析科技？</a></h4></div><div id=\"collapseFiveLeft-76\" class=\"panel-collapse collapse\" aria-expanded=\"false\" role=\"tablist\" style=\"height: 0px;\"><div class=\"panel-body\"><div class=\"text-accordion\"><p>iMATE透過跨領域合作的方式，共同探索具有關鍵特質的新穎材料和關鍵功能的分析科技。</p></div></div></div></div><div class=\"panel panel-default\"><div class=\"panel-heading\"><h4 class=\"panel-title\"><a data-toggle=\"collapse\" data-parent=\"#accordion_oneLeft\" href=\"#collapseFiveLeft-77\" aria-expanded=\"false\" class=\"collapsed\">[數位人文研究計畫] 這個數位人文研究計畫是在哪個單位下推動的呢？</a></h4></div><div id=\"collapseFiveLeft-77\" class=\"panel-collapse collapse\" aria-expanded=\"false\" role=\"tablist\" style=\"height: 0px;\"><div class=\"panel-body\"><div class=\"text-accordion\"><p>這個數位人文研究計畫是在中研院推動的。</p></div></div></div></div><div class=\"panel panel-default\"><div class=\"panel-heading\"><h4 class=\"panel-title\"><a data-toggle=\"collapse\" data-parent=\"#accordion_oneLeft\" href=\"#collapseFiveLeft-78\" aria-expanded=\"false\" class=\"collapsed\">[數位人文研究計畫] 這個數位人文研究計畫主要提供哪些協助，能夠幫助人文學研究進行數位轉向？</a></h4></div><div id=\"collapseFiveLeft-78\" class=\"panel-collapse collapse\" aria-expanded=\"false\" role=\"tablist\" style=\"height: 0px;\"><div class=\"panel-body\"><div class=\"text-accordion\"><p>這個數位人文研究計畫主要提供協助推動人文研究的數位轉向，並加速研究成果與在地社會建立有機連結。此外，該計畫也致力於創新數位文化，進行跨領域整合，並與全球相關領域比肩互動。詳細資訊可參考該計畫的網頁https://ascdc.sinica.edu.tw/。</p></div></div></div></div><div class=\"panel panel-default\"><div class=\"panel-heading\"><h4 class=\"panel-title\"><a data-toggle=\"collapse\" data-parent=\"#accordion_oneLeft\" href=\"#collapseFiveLeft-79\" aria-expanded=\"false\" class=\"collapsed\">[數位人文研究計畫] 該計畫將如何協助研究成果與在地社會建立有機連結？</a></h4></div><div id=\"collapseFiveLeft-79\" class=\"panel-collapse collapse\" aria-expanded=\"false\" role=\"tablist\" style=\"height: 0px;\"><div class=\"panel-body\"><div class=\"text-accordion\"><p>該計畫將積極加速研究成果與在地社會建立有機連結，以協助人文學研究的數位轉向。透過推動中研院數位人文研究和創新數位文化，跨領域整合以及與全球相關領域的互動，該計畫致力於建立研究成果與在地社會之間的有機聯繫。</p></div></div></div></div><div class=\"panel panel-default\"><div class=\"panel-heading\"><h4 class=\"panel-title\"><a data-toggle=\"collapse\" data-parent=\"#accordion_oneLeft\" href=\"#collapseFiveLeft-80\" aria-expanded=\"false\" class=\"collapsed\">[數位人文研究計畫] 該計畫是否會與全球其他相關領域互動交流呢？</a></h4></div><div id=\"collapseFiveLeft-80\" class=\"panel-collapse collapse\" aria-expanded=\"false\" role=\"tablist\" style=\"height: 0px;\"><div class=\"panel-body\"><div class=\"text-accordion\"><p>是的，該計畫的使命之一就是與全球相關領域比肩互動，進行跨領域整合。</p></div></div></div></div></div></div></div></div></div></div></div></body></html>\n"
          ]
        }
      ]
    },
    {
      "cell_type": "markdown",
      "source": [
        "# Reference\n",
        "\n",
        "- [Creating a synthetic Q&A dataset](https://github.com/openai/openai-cookbook/blob/main/examples/fine-tuned_qa/olympics-2-create-qa.ipynb)\n"
      ],
      "metadata": {
        "id": "Jgwh8L6xQeEl"
      }
    }
  ]
}